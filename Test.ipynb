{
 "cells": [
  {
   "cell_type": "code",
   "execution_count": 1,
   "metadata": {},
   "outputs": [],
   "source": [
    "from book_recommender import *"
   ]
  },
  {
   "cell_type": "code",
   "execution_count": 2,
   "metadata": {},
   "outputs": [],
   "source": [
    "df = pd.read_csv('filtered_df.csv')"
   ]
  },
  {
   "cell_type": "code",
   "execution_count": null,
   "metadata": {
    "scrolled": false
   },
   "outputs": [],
   "source": [
    "create_user(df)"
   ]
  },
  {
   "cell_type": "code",
   "execution_count": null,
   "metadata": {
    "scrolled": true
   },
   "outputs": [],
   "source": [
    "check_favorite_authors(df)"
   ]
  },
  {
   "cell_type": "code",
   "execution_count": null,
   "metadata": {
    "scrolled": true
   },
   "outputs": [],
   "source": [
    "num_reviews()"
   ]
  },
  {
   "cell_type": "code",
   "execution_count": null,
   "metadata": {},
   "outputs": [],
   "source": [
    "new = new_user_ratings(df, 5, 'd', 92934394)"
   ]
  },
  {
   "cell_type": "code",
   "execution_count": null,
   "metadata": {},
   "outputs": [],
   "source": [
    "x= new_recommendations(df, new)"
   ]
  },
  {
   "cell_type": "code",
   "execution_count": null,
   "metadata": {},
   "outputs": [],
   "source": [
    "num_recs = num_recs()"
   ]
  },
  {
   "cell_type": "code",
   "execution_count": null,
   "metadata": {},
   "outputs": [],
   "source": [
    "recs_to_return(x, df, num_recs)"
   ]
  },
  {
   "cell_type": "code",
   "execution_count": null,
   "metadata": {
    "scrolled": false
   },
   "outputs": [
    {
     "name": "stdout",
     "output_type": "stream",
     "text": [
      "Please enter your name: David\n",
      "\n",
      " Welcome David! I'm going to recommend some books just for you.\n",
      "\n",
      "Do you have any favorite authors who may have recently written books? (Yes/No) Haruki Murakami\n",
      "Sorry, that isn't a valid entry, please try again. \n",
      "\n",
      "Do you have any favorite authors who may have recently written books? (Yes/No) yes\n",
      "Name an author, I will check to see if they wrote anything on the top list.Haruki Murakami\n",
      "Haruki Murakami has written the following books: \n",
      "\n",
      "Killing Commendatore\n",
      "\n",
      "Would you like to check another author? (Yes/No)Yes\n",
      "Name an author, I will check to see if they wrote anything on the top list.Chrissy Teigen\n",
      "Chrissy Teigen has written the following books: \n",
      "\n",
      "Cravings: Hungry for More\n",
      "\n",
      "Would you like to check another author? (Yes/No)yes\n",
      "Name an author, I will check to see if they wrote anything on the top list.Gillian Flynn\n",
      "Gillian Flynn has written the following books: \n",
      "\n",
      "Gone Girl\n",
      "\n",
      "Would you like to check another author? (Yes/No)no\n",
      "How many books would you like to review? \n",
      "10\n",
      "------------------------\n",
      "Thunderhead by Neal Shusterman\n",
      "\n",
      "How do you rate this book on a scale of 1 to 5? If you are unfamiliar with this title press n. \n",
      "3\n",
      "------------------------\n",
      "A Dance with Dragons by George R.R. Martin\n",
      "\n",
      "How do you rate this book on a scale of 1 to 5? If you are unfamiliar with this title press n. \n",
      "4\n",
      "------------------------\n",
      "Russian Roulette: The Inside Story of Putin's War on America and the Election of Donald Trump by Michael Isikoff\n",
      "\n",
      "How do you rate this book on a scale of 1 to 5? If you are unfamiliar with this title press n. \n",
      "2\n",
      "------------------------\n",
      "Lethal White by Robert Galbraith\n",
      "\n",
      "How do you rate this book on a scale of 1 to 5? If you are unfamiliar with this title press n. \n",
      "n\n",
      "------------------------\n",
      "The Future of Humanity: Terraforming Mars, Interstellar Travel, Immortality, and Our Destiny Beyond Earth by Michio Kaku\n",
      "\n",
      "How do you rate this book on a scale of 1 to 5? If you are unfamiliar with this title press n. \n",
      "1\n",
      "------------------------\n",
      "Lincoln's Last Trial: The Murder Case That Propelled Him to the Presidency by Dan Abrams\n",
      "\n",
      "How do you rate this book on a scale of 1 to 5? If you are unfamiliar with this title press n. \n",
      "5\n",
      "------------------------\n",
      "Not That Bad: Dispatches from Rape Culture by Roxane Gay\n",
      "\n",
      "How do you rate this book on a scale of 1 to 5? If you are unfamiliar with this title press n. \n",
      "5\n",
      "------------------------\n",
      "Everything Happens for a Reason: And Other Lies I've Loved by Kate Bowler\n",
      "\n",
      "How do you rate this book on a scale of 1 to 5? If you are unfamiliar with this title press n. \n",
      "5\n",
      "------------------------\n",
      "Hey, Kiddo by Jarrett J. Krosoczka\n",
      "\n",
      "How do you rate this book on a scale of 1 to 5? If you are unfamiliar with this title press n. \n",
      "n\n",
      "------------------------\n",
      "The Night Diary by Veera Hiranandani\n",
      "\n",
      "How do you rate this book on a scale of 1 to 5? If you are unfamiliar with this title press n. \n",
      "4\n",
      "------------------------\n",
      "Red Rising by Pierce Brown\n",
      "\n",
      "How do you rate this book on a scale of 1 to 5? If you are unfamiliar with this title press n. \n",
      "3\n",
      "------------------------\n",
      "A River in Darkness: One Man's Escape from North Korea by Masaji Ishikawa\n",
      "\n",
      "How do you rate this book on a scale of 1 to 5? If you are unfamiliar with this title press n. \n",
      "2\n",
      "How many books would you like to be recommended? \n",
      "10\n",
      "Recommendation # 1: A Day in the Life of Marlon Bundo by Jill Twiss \n",
      " https://isbnsearch.org/isbn/145217380X\n",
      "\n",
      " ------------------------\n",
      "Recommendation # 2: Muse of Nightmares by Laini Taylor \n",
      " https://isbnsearch.org/isbn/0316341711\n",
      "\n",
      " ------------------------\n",
      "Recommendation # 3: Becoming by Michelle Obama \n",
      " https://isbnsearch.org/isbn/1524763136\n",
      "\n",
      " ------------------------\n",
      "Recommendation # 4: Brazen: Rebel Ladies Who Rocked the World by Pénélope Bagieu \n",
      " https://isbnsearch.org/isbn/1626728690\n",
      "\n",
      " ------------------------\n",
      "Recommendation # 5: Cravings: Hungry for More by Chrissy Teigen \n",
      " https://isbnsearch.org/isbn/1524759724\n",
      "\n",
      " ------------------------\n",
      "Recommendation # 6: The Girl in the Tower by Katherine Arden \n",
      " https://isbnsearch.org/isbn/1101885963\n",
      "\n",
      " ------------------------\n",
      "Recommendation # 7: Not That Bad: Dispatches from Rape Culture by Roxane Gay \n",
      " https://isbnsearch.org/isbn/0062851462\n",
      "\n",
      " ------------------------\n",
      "Recommendation # 8: Heavy: An American Memoir by Kiese Laymon \n",
      " https://isbnsearch.org/isbn/1501125656\n",
      "\n",
      " ------------------------\n",
      "Recommendation # 9: The Rabbit Listened by Cori Doerrfeld \n",
      " https://isbnsearch.org/isbn/073522935X\n",
      "\n",
      " ------------------------\n",
      "Recommendation # 10: The Prince and the Dressmaker by Jen Wang \n",
      " https://isbnsearch.org/isbn/162672363X\n",
      "\n",
      " ------------------------\n"
     ]
    }
   ],
   "source": [
    "book_recommender_function(df)"
   ]
  },
  {
   "cell_type": "code",
   "execution_count": null,
   "metadata": {},
   "outputs": [],
   "source": []
  }
 ],
 "metadata": {
  "kernelspec": {
   "display_name": "Python 3",
   "language": "python",
   "name": "python3"
  },
  "language_info": {
   "codemirror_mode": {
    "name": "ipython",
    "version": 3
   },
   "file_extension": ".py",
   "mimetype": "text/x-python",
   "name": "python",
   "nbconvert_exporter": "python",
   "pygments_lexer": "ipython3",
   "version": "3.7.3"
  }
 },
 "nbformat": 4,
 "nbformat_minor": 2
}
