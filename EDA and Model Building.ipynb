{
 "cells": [
  {
   "cell_type": "markdown",
   "metadata": {},
   "source": [
    "# Cleaning and EDA"
   ]
  },
  {
   "cell_type": "code",
   "execution_count": 1,
   "metadata": {},
   "outputs": [],
   "source": [
    "#importing some braries\n",
    "import pandas as pd\n",
    "import numpy as np"
   ]
  },
  {
   "cell_type": "code",
   "execution_count": 2,
   "metadata": {},
   "outputs": [
    {
     "data": {
      "text/html": [
       "<div>\n",
       "<style scoped>\n",
       "    .dataframe tbody tr th:only-of-type {\n",
       "        vertical-align: middle;\n",
       "    }\n",
       "\n",
       "    .dataframe tbody tr th {\n",
       "        vertical-align: top;\n",
       "    }\n",
       "\n",
       "    .dataframe thead th {\n",
       "        text-align: right;\n",
       "    }\n",
       "</style>\n",
       "<table border=\"1\" class=\"dataframe\">\n",
       "  <thead>\n",
       "    <tr style=\"text-align: right;\">\n",
       "      <th></th>\n",
       "      <th>author</th>\n",
       "      <th>mean_rating</th>\n",
       "      <th>num_ratings</th>\n",
       "      <th>num_reviews</th>\n",
       "      <th>title</th>\n",
       "      <th>url</th>\n",
       "    </tr>\n",
       "  </thead>\n",
       "  <tbody>\n",
       "    <tr>\n",
       "      <th>0</th>\n",
       "      <td>Jojo Moyes</td>\n",
       "      <td>4.17</td>\n",
       "      <td>96,193 ratings</td>\n",
       "      <td>9,442 reviews</td>\n",
       "      <td>Still Me</td>\n",
       "      <td>https://www.goodreads.com/book/show/35791968-s...</td>\n",
       "    </tr>\n",
       "    <tr>\n",
       "      <th>1</th>\n",
       "      <td>Tayari Jones</td>\n",
       "      <td>3.98</td>\n",
       "      <td>134,415 ratings</td>\n",
       "      <td>13,895 reviews</td>\n",
       "      <td>An American Marriage</td>\n",
       "      <td>https://www.goodreads.com/book/show/33590210-a...</td>\n",
       "    </tr>\n",
       "    <tr>\n",
       "      <th>2</th>\n",
       "      <td>Fredrik Backman</td>\n",
       "      <td>4.35</td>\n",
       "      <td>45,036 ratings</td>\n",
       "      <td>6,608 reviews</td>\n",
       "      <td>Us Against You</td>\n",
       "      <td>https://www.goodreads.com/book/show/36373463-u...</td>\n",
       "    </tr>\n",
       "    <tr>\n",
       "      <th>3</th>\n",
       "      <td>Liane Moriarty</td>\n",
       "      <td>3.52</td>\n",
       "      <td>105,514 ratings</td>\n",
       "      <td>12,408 reviews</td>\n",
       "      <td>Nine Perfect Strangers</td>\n",
       "      <td>https://www.goodreads.com/book/show/39280445-n...</td>\n",
       "    </tr>\n",
       "    <tr>\n",
       "      <th>4</th>\n",
       "      <td>Hank Green</td>\n",
       "      <td>4.06</td>\n",
       "      <td>32,049 ratings</td>\n",
       "      <td>6,203 reviews</td>\n",
       "      <td>An Absolutely Remarkable Thing</td>\n",
       "      <td>https://www.goodreads.com/book/show/38186611-a...</td>\n",
       "    </tr>\n",
       "  </tbody>\n",
       "</table>\n",
       "</div>"
      ],
      "text/plain": [
       "            author  mean_rating      num_ratings     num_reviews  \\\n",
       "0       Jojo Moyes         4.17   96,193 ratings   9,442 reviews   \n",
       "1     Tayari Jones         3.98  134,415 ratings  13,895 reviews   \n",
       "2  Fredrik Backman         4.35   45,036 ratings   6,608 reviews   \n",
       "3   Liane Moriarty         3.52  105,514 ratings  12,408 reviews   \n",
       "4       Hank Green         4.06   32,049 ratings   6,203 reviews   \n",
       "\n",
       "                            title  \\\n",
       "0                        Still Me   \n",
       "1            An American Marriage   \n",
       "2                  Us Against You   \n",
       "3          Nine Perfect Strangers   \n",
       "4  An Absolutely Remarkable Thing   \n",
       "\n",
       "                                                 url  \n",
       "0  https://www.goodreads.com/book/show/35791968-s...  \n",
       "1  https://www.goodreads.com/book/show/33590210-a...  \n",
       "2  https://www.goodreads.com/book/show/36373463-u...  \n",
       "3  https://www.goodreads.com/book/show/39280445-n...  \n",
       "4  https://www.goodreads.com/book/show/38186611-a...  "
      ]
     },
     "execution_count": 2,
     "metadata": {},
     "output_type": "execute_result"
    }
   ],
   "source": [
    "# reading the book frame\n",
    "books = pd.read_csv('book_info.csv').drop('Unnamed: 0', axis=1)\n",
    "books.head()"
   ]
  },
  {
   "cell_type": "code",
   "execution_count": 3,
   "metadata": {},
   "outputs": [
    {
     "data": {
      "text/html": [
       "<div>\n",
       "<style scoped>\n",
       "    .dataframe tbody tr th:only-of-type {\n",
       "        vertical-align: middle;\n",
       "    }\n",
       "\n",
       "    .dataframe tbody tr th {\n",
       "        vertical-align: top;\n",
       "    }\n",
       "\n",
       "    .dataframe thead th {\n",
       "        text-align: right;\n",
       "    }\n",
       "</style>\n",
       "<table border=\"1\" class=\"dataframe\">\n",
       "  <thead>\n",
       "    <tr style=\"text-align: right;\">\n",
       "      <th></th>\n",
       "      <th>isbn</th>\n",
       "      <th>likes</th>\n",
       "      <th>rating</th>\n",
       "      <th>title</th>\n",
       "      <th>user_id</th>\n",
       "      <th>user_name</th>\n",
       "    </tr>\n",
       "  </thead>\n",
       "  <tbody>\n",
       "    <tr>\n",
       "      <th>0</th>\n",
       "      <td>0399562451</td>\n",
       "      <td>390</td>\n",
       "      <td>3</td>\n",
       "      <td>Still Me</td>\n",
       "      <td>9684061</td>\n",
       "      <td>Melissa</td>\n",
       "    </tr>\n",
       "    <tr>\n",
       "      <th>1</th>\n",
       "      <td>0399562451</td>\n",
       "      <td>309</td>\n",
       "      <td>3</td>\n",
       "      <td>Still Me</td>\n",
       "      <td>5032725</td>\n",
       "      <td>Debra</td>\n",
       "    </tr>\n",
       "    <tr>\n",
       "      <th>2</th>\n",
       "      <td>0399562451</td>\n",
       "      <td>262</td>\n",
       "      <td>5</td>\n",
       "      <td>Still Me</td>\n",
       "      <td>31840755</td>\n",
       "      <td>Ihcene</td>\n",
       "    </tr>\n",
       "    <tr>\n",
       "      <th>3</th>\n",
       "      <td>0399562451</td>\n",
       "      <td>208</td>\n",
       "      <td>5</td>\n",
       "      <td>Still Me</td>\n",
       "      <td>665584</td>\n",
       "      <td>Alejandro</td>\n",
       "    </tr>\n",
       "    <tr>\n",
       "      <th>4</th>\n",
       "      <td>0399562451</td>\n",
       "      <td>189</td>\n",
       "      <td>5</td>\n",
       "      <td>Still Me</td>\n",
       "      <td>57991562</td>\n",
       "      <td>Pauline</td>\n",
       "    </tr>\n",
       "  </tbody>\n",
       "</table>\n",
       "</div>"
      ],
      "text/plain": [
       "         isbn  likes  rating     title   user_id  user_name\n",
       "0  0399562451    390       3  Still Me   9684061    Melissa\n",
       "1  0399562451    309       3  Still Me   5032725      Debra\n",
       "2  0399562451    262       5  Still Me  31840755     Ihcene\n",
       "3  0399562451    208       5  Still Me    665584  Alejandro\n",
       "4  0399562451    189       5  Still Me  57991562    Pauline"
      ]
     },
     "execution_count": 3,
     "metadata": {},
     "output_type": "execute_result"
    }
   ],
   "source": [
    "# reeading the review frame\n",
    "reviews = pd.read_csv('main_reviews_df.csv').drop('Unnamed: 0', axis=1)\n",
    "reviews.head()"
   ]
  },
  {
   "cell_type": "code",
   "execution_count": 4,
   "metadata": {},
   "outputs": [
    {
     "data": {
      "text/plain": [
       "123801"
      ]
     },
     "execution_count": 4,
     "metadata": {},
     "output_type": "execute_result"
    }
   ],
   "source": [
    "len(reviews)"
   ]
  },
  {
   "cell_type": "code",
   "execution_count": 9,
   "metadata": {},
   "outputs": [],
   "source": [
    "# dropping duplicates by title\n",
    "books = books.drop_duplicates(subset=['title'])"
   ]
  },
  {
   "cell_type": "code",
   "execution_count": 8,
   "metadata": {},
   "outputs": [
    {
     "data": {
      "text/plain": [
       "395"
      ]
     },
     "execution_count": 8,
     "metadata": {},
     "output_type": "execute_result"
    }
   ],
   "source": [
    "# checking for number of unique titles in reviews\n",
    "reviews.title.nunique()"
   ]
  },
  {
   "cell_type": "code",
   "execution_count": 12,
   "metadata": {},
   "outputs": [
    {
     "data": {
      "text/plain": [
       "113248"
      ]
     },
     "execution_count": 12,
     "metadata": {},
     "output_type": "execute_result"
    }
   ],
   "source": [
    "# dropping any possible duplicates and we still have plenty of data to work with\n",
    "reviews = reviews.drop_duplicates()\n",
    "len(reviews)"
   ]
  },
  {
   "cell_type": "code",
   "execution_count": 11,
   "metadata": {},
   "outputs": [
    {
     "data": {
      "text/plain": [
       "113248"
      ]
     },
     "execution_count": 11,
     "metadata": {},
     "output_type": "execute_result"
    }
   ],
   "source": [
    "# merging!\n",
    "df = reviews.merge(books, how='left', on='title')\n",
    "len(df)"
   ]
  },
  {
   "cell_type": "code",
   "execution_count": 15,
   "metadata": {},
   "outputs": [],
   "source": [
    "# dropping unneeded column\n",
    "df = df.drop('url', axis=1)"
   ]
  },
  {
   "cell_type": "code",
   "execution_count": 17,
   "metadata": {},
   "outputs": [
    {
     "data": {
      "text/plain": [
       "title\n",
       "The Tattooist of Auschwitz                                                                                                                                                            303\n",
       "The Land: Predators                                                                                                                                                                   300\n",
       "The Sawbones Book: The Hilarious, Horrifying Road to Modern Medicine                                                                                                                  300\n",
       "The Future of Humanity: Terraforming Mars, Interstellar Travel, Immortality, and Our Destiny Beyond Earth                                                                             300\n",
       "Rise and Kill First: The Secret History of Israel's Targeted Assassinations                                                                                                           300\n",
       "The Path Between Us: An Enneagram Journey to Healthy Relationships                                                                                                                    300\n",
       "Magnolia Table: A Collection of Recipes for Gathering                                                                                                                                 300\n",
       "Lincoln's Last Trial: The Murder Case That Propelled Him to the Presidency                                                                                                            300\n",
       "Black Hammer, Vol. 2: The Event                                                                                                                                                       300\n",
       "Killing the SS: The Hunt for the Worst War Criminals in History                                                                                                                       300\n",
       "Springfield Confidential: Jokes, Secrets, and Outright Lies from a Lifetime Writing for The Simpsons                                                                                  300\n",
       "Spying on Whales: The Past, Present, and Future of Earth's Most Awesome Creatures                                                                                                     300\n",
       "Fly Girls: How Five Daring Women Defied All Odds and Made Aviation History                                                                                                            300\n",
       "What Is Real?: The Unfinished Quest for the Meaning of Quantum Physics                                                                                                                300\n",
       "The Cabin at the End of the World                                                                                                                                                     300\n",
       "Craven Manor                                                                                                                                                                          299\n",
       "Boom Town: The Fantastical Saga of Oklahoma City, Its Chaotic Founding, Its Apocalyptic Weather, Its Purloined Basketball Team, and the Dream of Becoming a World-class Metropolis    299\n",
       "The Unforgettable Guinevere St. Clair                                                                                                                                                 299\n",
       "The Wicked + The Divine, Vol. 6: Imperial Phase, Part 2                                                                                                                               299\n",
       "The Woman in the Window                                                                                                                                                               299\n",
       "Black Bolt, Vol. 1: Hard Time                                                                                                                                                         299\n",
       "Dracul                                                                                                                                                                                299\n",
       "Hits and Misses                                                                                                                                                                       299\n",
       "Foe                                                                                                                                                                                   299\n",
       "The Labyrinth Index                                                                                                                                                                   299\n",
       "The Food Explorer: The True Adventures of the Globe-Trotting Botanist Who Transformed What America Eats                                                                               299\n",
       "Beneath the Sugar Sky                                                                                                                                                                 299\n",
       "How to American: An Immigrant's Guide to Disappointing Your Parents                                                                                                                   299\n",
       "The Carrow Haunt                                                                                                                                                                      299\n",
       "Tasty Latest and Greatest: Everything You Want to Cook Right Now (an Official Tasty Cookbook)                                                                                         299\n",
       "                                                                                                                                                                                     ... \n",
       "Bobby Flay Fit: 200 Recipes for a Healthy Lifestyle                                                                                                                                   268\n",
       "The Miscalculations of Lightning Girl                                                                                                                                                 268\n",
       "Wildcard                                                                                                                                                                              266\n",
       "11/22/63                                                                                                                                                                              266\n",
       "Vengeful                                                                                                                                                                              266\n",
       "Be Prepared                                                                                                                                                                           265\n",
       "Iron Gold                                                                                                                                                                             265\n",
       "The Lady's Guide to Petticoats and Piracy                                                                                                                                             263\n",
       "Darker                                                                                                                                                                                263\n",
       "Sex, Not Love                                                                                                                                                                         261\n",
       "Muse of Nightmares                                                                                                                                                                    259\n",
       "The Wedding Date                                                                                                                                                                      258\n",
       "War Storm                                                                                                                                                                             255\n",
       "Restore Me                                                                                                                                                                            252\n",
       "Still Me                                                                                                                                                                              251\n",
       "Kingdom of Ash                                                                                                                                                                        250\n",
       "A Reaper at the Gates                                                                                                                                                                 247\n",
       "Lulu is a Rhinoceros                                                                                                                                                                  235\n",
       "Sadie                                                                                                                                                                                 232\n",
       "Leverage in Death                                                                                                                                                                     209\n",
       "Baking All Year Round: Holidays & Special Occasions                                                                                                                                   190\n",
       "Now & Again: Go-To Recipes, Inspired Menus + Endless Ideas for Reinventing Leftovers                                                                                                  178\n",
       "The Fault in Our Stars                                                                                                                                                                174\n",
       "Taming the Sun: Innovations to Harness Solar Energy and Power the Planet                                                                                                              173\n",
       "Are You There God? It's Me, Margarita: More Cocktails with a Literary Twist                                                                                                            90\n",
       "Children of Blood and Bone                                                                                                                                                             82\n",
       "Hello Lighthouse                                                                                                                                                                       59\n",
       "The Cruel Prince                                                                                                                                                                       57\n",
       "The Astonishing Color of After                                                                                                                                                         50\n",
       "A Very Large Expanse of Sea                                                                                                                                                            27\n",
       "Name: user_id, Length: 395, dtype: int64"
      ]
     },
     "execution_count": 17,
     "metadata": {},
     "output_type": "execute_result"
    }
   ],
   "source": [
    "# checking for number of reviews by title\n",
    "df.groupby(['title']).count()['user_id'].sort_values(ascending=False)"
   ]
  },
  {
   "cell_type": "code",
   "execution_count": 18,
   "metadata": {},
   "outputs": [
    {
     "data": {
      "text/html": [
       "<div>\n",
       "<style scoped>\n",
       "    .dataframe tbody tr th:only-of-type {\n",
       "        vertical-align: middle;\n",
       "    }\n",
       "\n",
       "    .dataframe tbody tr th {\n",
       "        vertical-align: top;\n",
       "    }\n",
       "\n",
       "    .dataframe thead th {\n",
       "        text-align: right;\n",
       "    }\n",
       "</style>\n",
       "<table border=\"1\" class=\"dataframe\">\n",
       "  <thead>\n",
       "    <tr style=\"text-align: right;\">\n",
       "      <th></th>\n",
       "      <th>isbn</th>\n",
       "      <th>likes</th>\n",
       "      <th>rating</th>\n",
       "      <th>title</th>\n",
       "      <th>user_id</th>\n",
       "      <th>user_name</th>\n",
       "      <th>author</th>\n",
       "      <th>mean_rating</th>\n",
       "      <th>num_ratings</th>\n",
       "      <th>num_reviews</th>\n",
       "    </tr>\n",
       "  </thead>\n",
       "  <tbody>\n",
       "  </tbody>\n",
       "</table>\n",
       "</div>"
      ],
      "text/plain": [
       "Empty DataFrame\n",
       "Columns: [isbn, likes, rating, title, user_id, user_name, author, mean_rating, num_ratings, num_reviews]\n",
       "Index: []"
      ]
     },
     "execution_count": 18,
     "metadata": {},
     "output_type": "execute_result"
    }
   ],
   "source": [
    "# double checking for dups\n",
    "df[df.duplicated()]"
   ]
  },
  {
   "cell_type": "code",
   "execution_count": 19,
   "metadata": {},
   "outputs": [
    {
     "data": {
      "text/html": [
       "<div>\n",
       "<style scoped>\n",
       "    .dataframe tbody tr th:only-of-type {\n",
       "        vertical-align: middle;\n",
       "    }\n",
       "\n",
       "    .dataframe tbody tr th {\n",
       "        vertical-align: top;\n",
       "    }\n",
       "\n",
       "    .dataframe thead th {\n",
       "        text-align: right;\n",
       "    }\n",
       "</style>\n",
       "<table border=\"1\" class=\"dataframe\">\n",
       "  <thead>\n",
       "    <tr style=\"text-align: right;\">\n",
       "      <th></th>\n",
       "      <th>isbn</th>\n",
       "      <th>likes</th>\n",
       "      <th>rating</th>\n",
       "      <th>title</th>\n",
       "      <th>user_id</th>\n",
       "      <th>user_name</th>\n",
       "      <th>author</th>\n",
       "      <th>mean_rating</th>\n",
       "      <th>num_ratings</th>\n",
       "      <th>num_reviews</th>\n",
       "    </tr>\n",
       "  </thead>\n",
       "  <tbody>\n",
       "    <tr>\n",
       "      <th>21783</th>\n",
       "      <td>empty</td>\n",
       "      <td>510</td>\n",
       "      <td>1</td>\n",
       "      <td>The Help</td>\n",
       "      <td>905324</td>\n",
       "      <td>Caroline</td>\n",
       "      <td>Kathryn Stockett</td>\n",
       "      <td>4.46</td>\n",
       "      <td>1,874,160 ratings</td>\n",
       "      <td>81,826 reviews</td>\n",
       "    </tr>\n",
       "    <tr>\n",
       "      <th>21784</th>\n",
       "      <td>empty</td>\n",
       "      <td>441</td>\n",
       "      <td>4</td>\n",
       "      <td>The Help</td>\n",
       "      <td>406752</td>\n",
       "      <td>Joe</td>\n",
       "      <td>Kathryn Stockett</td>\n",
       "      <td>4.46</td>\n",
       "      <td>1,874,160 ratings</td>\n",
       "      <td>81,826 reviews</td>\n",
       "    </tr>\n",
       "    <tr>\n",
       "      <th>21785</th>\n",
       "      <td>empty</td>\n",
       "      <td>377</td>\n",
       "      <td>5</td>\n",
       "      <td>The Help</td>\n",
       "      <td>542037</td>\n",
       "      <td>Annalisa</td>\n",
       "      <td>Kathryn Stockett</td>\n",
       "      <td>4.46</td>\n",
       "      <td>1,874,160 ratings</td>\n",
       "      <td>81,826 reviews</td>\n",
       "    </tr>\n",
       "    <tr>\n",
       "      <th>21786</th>\n",
       "      <td>empty</td>\n",
       "      <td>293</td>\n",
       "      <td>1</td>\n",
       "      <td>The Help</td>\n",
       "      <td>536912</td>\n",
       "      <td>Maegen</td>\n",
       "      <td>Kathryn Stockett</td>\n",
       "      <td>4.46</td>\n",
       "      <td>1,874,160 ratings</td>\n",
       "      <td>81,826 reviews</td>\n",
       "    </tr>\n",
       "    <tr>\n",
       "      <th>21787</th>\n",
       "      <td>empty</td>\n",
       "      <td>270</td>\n",
       "      <td>2</td>\n",
       "      <td>The Help</td>\n",
       "      <td>2927182</td>\n",
       "      <td>Ellen</td>\n",
       "      <td>Kathryn Stockett</td>\n",
       "      <td>4.46</td>\n",
       "      <td>1,874,160 ratings</td>\n",
       "      <td>81,826 reviews</td>\n",
       "    </tr>\n",
       "    <tr>\n",
       "      <th>21788</th>\n",
       "      <td>empty</td>\n",
       "      <td>263</td>\n",
       "      <td>4</td>\n",
       "      <td>The Help</td>\n",
       "      <td>14596170</td>\n",
       "      <td>Lola</td>\n",
       "      <td>Kathryn Stockett</td>\n",
       "      <td>4.46</td>\n",
       "      <td>1,874,160 ratings</td>\n",
       "      <td>81,826 reviews</td>\n",
       "    </tr>\n",
       "    <tr>\n",
       "      <th>21789</th>\n",
       "      <td>empty</td>\n",
       "      <td>236</td>\n",
       "      <td>5</td>\n",
       "      <td>The Help</td>\n",
       "      <td>45618</td>\n",
       "      <td>karen</td>\n",
       "      <td>Kathryn Stockett</td>\n",
       "      <td>4.46</td>\n",
       "      <td>1,874,160 ratings</td>\n",
       "      <td>81,826 reviews</td>\n",
       "    </tr>\n",
       "    <tr>\n",
       "      <th>21790</th>\n",
       "      <td>empty</td>\n",
       "      <td>222</td>\n",
       "      <td>5</td>\n",
       "      <td>The Help</td>\n",
       "      <td>41788524</td>\n",
       "      <td>Kai</td>\n",
       "      <td>Kathryn Stockett</td>\n",
       "      <td>4.46</td>\n",
       "      <td>1,874,160 ratings</td>\n",
       "      <td>81,826 reviews</td>\n",
       "    </tr>\n",
       "    <tr>\n",
       "      <th>21791</th>\n",
       "      <td>empty</td>\n",
       "      <td>206</td>\n",
       "      <td>5</td>\n",
       "      <td>The Help</td>\n",
       "      <td>50966861</td>\n",
       "      <td>Majenta</td>\n",
       "      <td>Kathryn Stockett</td>\n",
       "      <td>4.46</td>\n",
       "      <td>1,874,160 ratings</td>\n",
       "      <td>81,826 reviews</td>\n",
       "    </tr>\n",
       "    <tr>\n",
       "      <th>21792</th>\n",
       "      <td>empty</td>\n",
       "      <td>184</td>\n",
       "      <td>4</td>\n",
       "      <td>The Help</td>\n",
       "      <td>7365405</td>\n",
       "      <td>James</td>\n",
       "      <td>Kathryn Stockett</td>\n",
       "      <td>4.46</td>\n",
       "      <td>1,874,160 ratings</td>\n",
       "      <td>81,826 reviews</td>\n",
       "    </tr>\n",
       "    <tr>\n",
       "      <th>21793</th>\n",
       "      <td>empty</td>\n",
       "      <td>160</td>\n",
       "      <td>5</td>\n",
       "      <td>The Help</td>\n",
       "      <td>763271</td>\n",
       "      <td>Nancy</td>\n",
       "      <td>Kathryn Stockett</td>\n",
       "      <td>4.46</td>\n",
       "      <td>1,874,160 ratings</td>\n",
       "      <td>81,826 reviews</td>\n",
       "    </tr>\n",
       "    <tr>\n",
       "      <th>21794</th>\n",
       "      <td>empty</td>\n",
       "      <td>153</td>\n",
       "      <td>5</td>\n",
       "      <td>The Help</td>\n",
       "      <td>7234171</td>\n",
       "      <td>Jaline</td>\n",
       "      <td>Kathryn Stockett</td>\n",
       "      <td>4.46</td>\n",
       "      <td>1,874,160 ratings</td>\n",
       "      <td>81,826 reviews</td>\n",
       "    </tr>\n",
       "    <tr>\n",
       "      <th>21795</th>\n",
       "      <td>empty</td>\n",
       "      <td>150</td>\n",
       "      <td>1</td>\n",
       "      <td>The Help</td>\n",
       "      <td>1845121</td>\n",
       "      <td>Salome G</td>\n",
       "      <td>Kathryn Stockett</td>\n",
       "      <td>4.46</td>\n",
       "      <td>1,874,160 ratings</td>\n",
       "      <td>81,826 reviews</td>\n",
       "    </tr>\n",
       "    <tr>\n",
       "      <th>21796</th>\n",
       "      <td>empty</td>\n",
       "      <td>147</td>\n",
       "      <td>4</td>\n",
       "      <td>The Help</td>\n",
       "      <td>4426615</td>\n",
       "      <td>Jason</td>\n",
       "      <td>Kathryn Stockett</td>\n",
       "      <td>4.46</td>\n",
       "      <td>1,874,160 ratings</td>\n",
       "      <td>81,826 reviews</td>\n",
       "    </tr>\n",
       "    <tr>\n",
       "      <th>21797</th>\n",
       "      <td>empty</td>\n",
       "      <td>148</td>\n",
       "      <td>5</td>\n",
       "      <td>The Help</td>\n",
       "      <td>21690081</td>\n",
       "      <td>Dana Ilie</td>\n",
       "      <td>Kathryn Stockett</td>\n",
       "      <td>4.46</td>\n",
       "      <td>1,874,160 ratings</td>\n",
       "      <td>81,826 reviews</td>\n",
       "    </tr>\n",
       "    <tr>\n",
       "      <th>21798</th>\n",
       "      <td>empty</td>\n",
       "      <td>127</td>\n",
       "      <td>1</td>\n",
       "      <td>The Help</td>\n",
       "      <td>2250020</td>\n",
       "      <td>Tatiana</td>\n",
       "      <td>Kathryn Stockett</td>\n",
       "      <td>4.46</td>\n",
       "      <td>1,874,160 ratings</td>\n",
       "      <td>81,826 reviews</td>\n",
       "    </tr>\n",
       "    <tr>\n",
       "      <th>21799</th>\n",
       "      <td>empty</td>\n",
       "      <td>116</td>\n",
       "      <td>5</td>\n",
       "      <td>The Help</td>\n",
       "      <td>20906165</td>\n",
       "      <td>JV</td>\n",
       "      <td>Kathryn Stockett</td>\n",
       "      <td>4.46</td>\n",
       "      <td>1,874,160 ratings</td>\n",
       "      <td>81,826 reviews</td>\n",
       "    </tr>\n",
       "    <tr>\n",
       "      <th>21800</th>\n",
       "      <td>empty</td>\n",
       "      <td>125</td>\n",
       "      <td>5</td>\n",
       "      <td>The Help</td>\n",
       "      <td>5903843</td>\n",
       "      <td>Matt</td>\n",
       "      <td>Kathryn Stockett</td>\n",
       "      <td>4.46</td>\n",
       "      <td>1,874,160 ratings</td>\n",
       "      <td>81,826 reviews</td>\n",
       "    </tr>\n",
       "    <tr>\n",
       "      <th>21801</th>\n",
       "      <td>empty</td>\n",
       "      <td>99</td>\n",
       "      <td>5</td>\n",
       "      <td>The Help</td>\n",
       "      <td>2018505</td>\n",
       "      <td>Thomas</td>\n",
       "      <td>Kathryn Stockett</td>\n",
       "      <td>4.46</td>\n",
       "      <td>1,874,160 ratings</td>\n",
       "      <td>81,826 reviews</td>\n",
       "    </tr>\n",
       "    <tr>\n",
       "      <th>21802</th>\n",
       "      <td>empty</td>\n",
       "      <td>92</td>\n",
       "      <td>4</td>\n",
       "      <td>The Help</td>\n",
       "      <td>46088881</td>\n",
       "      <td>Reading Corner</td>\n",
       "      <td>Kathryn Stockett</td>\n",
       "      <td>4.46</td>\n",
       "      <td>1,874,160 ratings</td>\n",
       "      <td>81,826 reviews</td>\n",
       "    </tr>\n",
       "    <tr>\n",
       "      <th>21803</th>\n",
       "      <td>empty</td>\n",
       "      <td>89</td>\n",
       "      <td>4</td>\n",
       "      <td>The Help</td>\n",
       "      <td>1526851</td>\n",
       "      <td>Will Byrnes</td>\n",
       "      <td>Kathryn Stockett</td>\n",
       "      <td>4.46</td>\n",
       "      <td>1,874,160 ratings</td>\n",
       "      <td>81,826 reviews</td>\n",
       "    </tr>\n",
       "    <tr>\n",
       "      <th>21804</th>\n",
       "      <td>empty</td>\n",
       "      <td>88</td>\n",
       "      <td>4</td>\n",
       "      <td>The Help</td>\n",
       "      <td>1199525</td>\n",
       "      <td>Cecily</td>\n",
       "      <td>Kathryn Stockett</td>\n",
       "      <td>4.46</td>\n",
       "      <td>1,874,160 ratings</td>\n",
       "      <td>81,826 reviews</td>\n",
       "    </tr>\n",
       "    <tr>\n",
       "      <th>21805</th>\n",
       "      <td>empty</td>\n",
       "      <td>87</td>\n",
       "      <td>4</td>\n",
       "      <td>The Help</td>\n",
       "      <td>614778</td>\n",
       "      <td>Ahmad Sharabiani</td>\n",
       "      <td>Kathryn Stockett</td>\n",
       "      <td>4.46</td>\n",
       "      <td>1,874,160 ratings</td>\n",
       "      <td>81,826 reviews</td>\n",
       "    </tr>\n",
       "    <tr>\n",
       "      <th>21806</th>\n",
       "      <td>empty</td>\n",
       "      <td>84</td>\n",
       "      <td>5</td>\n",
       "      <td>The Help</td>\n",
       "      <td>1246837</td>\n",
       "      <td>Maggie Stiefvater</td>\n",
       "      <td>Kathryn Stockett</td>\n",
       "      <td>4.46</td>\n",
       "      <td>1,874,160 ratings</td>\n",
       "      <td>81,826 reviews</td>\n",
       "    </tr>\n",
       "    <tr>\n",
       "      <th>21807</th>\n",
       "      <td>empty</td>\n",
       "      <td>84</td>\n",
       "      <td>5</td>\n",
       "      <td>The Help</td>\n",
       "      <td>19760612</td>\n",
       "      <td>Praveen</td>\n",
       "      <td>Kathryn Stockett</td>\n",
       "      <td>4.46</td>\n",
       "      <td>1,874,160 ratings</td>\n",
       "      <td>81,826 reviews</td>\n",
       "    </tr>\n",
       "    <tr>\n",
       "      <th>21808</th>\n",
       "      <td>empty</td>\n",
       "      <td>82</td>\n",
       "      <td>5</td>\n",
       "      <td>The Help</td>\n",
       "      <td>63168028</td>\n",
       "      <td>Peter</td>\n",
       "      <td>Kathryn Stockett</td>\n",
       "      <td>4.46</td>\n",
       "      <td>1,874,160 ratings</td>\n",
       "      <td>81,826 reviews</td>\n",
       "    </tr>\n",
       "    <tr>\n",
       "      <th>21809</th>\n",
       "      <td>empty</td>\n",
       "      <td>79</td>\n",
       "      <td>5</td>\n",
       "      <td>The Help</td>\n",
       "      <td>307208</td>\n",
       "      <td>Lucy</td>\n",
       "      <td>Kathryn Stockett</td>\n",
       "      <td>4.46</td>\n",
       "      <td>1,874,160 ratings</td>\n",
       "      <td>81,826 reviews</td>\n",
       "    </tr>\n",
       "    <tr>\n",
       "      <th>21810</th>\n",
       "      <td>empty</td>\n",
       "      <td>72</td>\n",
       "      <td>5</td>\n",
       "      <td>The Help</td>\n",
       "      <td>39755</td>\n",
       "      <td>eb</td>\n",
       "      <td>Kathryn Stockett</td>\n",
       "      <td>4.46</td>\n",
       "      <td>1,874,160 ratings</td>\n",
       "      <td>81,826 reviews</td>\n",
       "    </tr>\n",
       "    <tr>\n",
       "      <th>21811</th>\n",
       "      <td>empty</td>\n",
       "      <td>67</td>\n",
       "      <td>4</td>\n",
       "      <td>The Help</td>\n",
       "      <td>34178791</td>\n",
       "      <td>Natalie Vellacott</td>\n",
       "      <td>Kathryn Stockett</td>\n",
       "      <td>4.46</td>\n",
       "      <td>1,874,160 ratings</td>\n",
       "      <td>81,826 reviews</td>\n",
       "    </tr>\n",
       "    <tr>\n",
       "      <th>21812</th>\n",
       "      <td>empty</td>\n",
       "      <td>66</td>\n",
       "      <td>5</td>\n",
       "      <td>The Help</td>\n",
       "      <td>28198445</td>\n",
       "      <td>Ivana - Diary of Difference</td>\n",
       "      <td>Kathryn Stockett</td>\n",
       "      <td>4.46</td>\n",
       "      <td>1,874,160 ratings</td>\n",
       "      <td>81,826 reviews</td>\n",
       "    </tr>\n",
       "    <tr>\n",
       "      <th>...</th>\n",
       "      <td>...</td>\n",
       "      <td>...</td>\n",
       "      <td>...</td>\n",
       "      <td>...</td>\n",
       "      <td>...</td>\n",
       "      <td>...</td>\n",
       "      <td>...</td>\n",
       "      <td>...</td>\n",
       "      <td>...</td>\n",
       "      <td>...</td>\n",
       "    </tr>\n",
       "    <tr>\n",
       "      <th>112329</th>\n",
       "      <td>empty</td>\n",
       "      <td>0</td>\n",
       "      <td>4</td>\n",
       "      <td>Prince &amp; Knight</td>\n",
       "      <td>31567910</td>\n",
       "      <td>Taarna</td>\n",
       "      <td>Daniel Haack</td>\n",
       "      <td>4.40</td>\n",
       "      <td>1,211 ratings</td>\n",
       "      <td>329 reviews</td>\n",
       "    </tr>\n",
       "    <tr>\n",
       "      <th>112330</th>\n",
       "      <td>empty</td>\n",
       "      <td>0</td>\n",
       "      <td>5</td>\n",
       "      <td>Prince &amp; Knight</td>\n",
       "      <td>39727559</td>\n",
       "      <td>ellis</td>\n",
       "      <td>Daniel Haack</td>\n",
       "      <td>4.40</td>\n",
       "      <td>1,211 ratings</td>\n",
       "      <td>329 reviews</td>\n",
       "    </tr>\n",
       "    <tr>\n",
       "      <th>112331</th>\n",
       "      <td>empty</td>\n",
       "      <td>0</td>\n",
       "      <td>4</td>\n",
       "      <td>Prince &amp; Knight</td>\n",
       "      <td>436811</td>\n",
       "      <td>Trevor</td>\n",
       "      <td>Daniel Haack</td>\n",
       "      <td>4.40</td>\n",
       "      <td>1,211 ratings</td>\n",
       "      <td>329 reviews</td>\n",
       "    </tr>\n",
       "    <tr>\n",
       "      <th>112332</th>\n",
       "      <td>empty</td>\n",
       "      <td>0</td>\n",
       "      <td>5</td>\n",
       "      <td>Prince &amp; Knight</td>\n",
       "      <td>12662938</td>\n",
       "      <td>Nikki Glassley</td>\n",
       "      <td>Daniel Haack</td>\n",
       "      <td>4.40</td>\n",
       "      <td>1,211 ratings</td>\n",
       "      <td>329 reviews</td>\n",
       "    </tr>\n",
       "    <tr>\n",
       "      <th>112333</th>\n",
       "      <td>empty</td>\n",
       "      <td>0</td>\n",
       "      <td>5</td>\n",
       "      <td>Prince &amp; Knight</td>\n",
       "      <td>7515348</td>\n",
       "      <td>Kate</td>\n",
       "      <td>Daniel Haack</td>\n",
       "      <td>4.40</td>\n",
       "      <td>1,211 ratings</td>\n",
       "      <td>329 reviews</td>\n",
       "    </tr>\n",
       "    <tr>\n",
       "      <th>112334</th>\n",
       "      <td>empty</td>\n",
       "      <td>0</td>\n",
       "      <td>4</td>\n",
       "      <td>Prince &amp; Knight</td>\n",
       "      <td>63405646</td>\n",
       "      <td>Paulina Velazquez</td>\n",
       "      <td>Daniel Haack</td>\n",
       "      <td>4.40</td>\n",
       "      <td>1,211 ratings</td>\n",
       "      <td>329 reviews</td>\n",
       "    </tr>\n",
       "    <tr>\n",
       "      <th>112335</th>\n",
       "      <td>empty</td>\n",
       "      <td>0</td>\n",
       "      <td>5</td>\n",
       "      <td>Prince &amp; Knight</td>\n",
       "      <td>10932595</td>\n",
       "      <td>Kellie</td>\n",
       "      <td>Daniel Haack</td>\n",
       "      <td>4.40</td>\n",
       "      <td>1,211 ratings</td>\n",
       "      <td>329 reviews</td>\n",
       "    </tr>\n",
       "    <tr>\n",
       "      <th>112336</th>\n",
       "      <td>empty</td>\n",
       "      <td>0</td>\n",
       "      <td>5</td>\n",
       "      <td>Prince &amp; Knight</td>\n",
       "      <td>10553671</td>\n",
       "      <td>Kimberly Wright Oelkers</td>\n",
       "      <td>Daniel Haack</td>\n",
       "      <td>4.40</td>\n",
       "      <td>1,211 ratings</td>\n",
       "      <td>329 reviews</td>\n",
       "    </tr>\n",
       "    <tr>\n",
       "      <th>112337</th>\n",
       "      <td>empty</td>\n",
       "      <td>0</td>\n",
       "      <td>5</td>\n",
       "      <td>Prince &amp; Knight</td>\n",
       "      <td>75277569</td>\n",
       "      <td>Denise Menger</td>\n",
       "      <td>Daniel Haack</td>\n",
       "      <td>4.40</td>\n",
       "      <td>1,211 ratings</td>\n",
       "      <td>329 reviews</td>\n",
       "    </tr>\n",
       "    <tr>\n",
       "      <th>112338</th>\n",
       "      <td>empty</td>\n",
       "      <td>0</td>\n",
       "      <td>5</td>\n",
       "      <td>Prince &amp; Knight</td>\n",
       "      <td>27884410</td>\n",
       "      <td>Jillian Frasher</td>\n",
       "      <td>Daniel Haack</td>\n",
       "      <td>4.40</td>\n",
       "      <td>1,211 ratings</td>\n",
       "      <td>329 reviews</td>\n",
       "    </tr>\n",
       "    <tr>\n",
       "      <th>112339</th>\n",
       "      <td>empty</td>\n",
       "      <td>0</td>\n",
       "      <td>5</td>\n",
       "      <td>Prince &amp; Knight</td>\n",
       "      <td>89878899</td>\n",
       "      <td>Maude Ragsdale</td>\n",
       "      <td>Daniel Haack</td>\n",
       "      <td>4.40</td>\n",
       "      <td>1,211 ratings</td>\n",
       "      <td>329 reviews</td>\n",
       "    </tr>\n",
       "    <tr>\n",
       "      <th>112340</th>\n",
       "      <td>empty</td>\n",
       "      <td>0</td>\n",
       "      <td>5</td>\n",
       "      <td>Prince &amp; Knight</td>\n",
       "      <td>32804259</td>\n",
       "      <td>Morgan &amp;#x1f469;‍&amp;#x1f393;&amp;#x1f4da; Paukner</td>\n",
       "      <td>Daniel Haack</td>\n",
       "      <td>4.40</td>\n",
       "      <td>1,211 ratings</td>\n",
       "      <td>329 reviews</td>\n",
       "    </tr>\n",
       "    <tr>\n",
       "      <th>112341</th>\n",
       "      <td>empty</td>\n",
       "      <td>0</td>\n",
       "      <td>5</td>\n",
       "      <td>Prince &amp; Knight</td>\n",
       "      <td>1435072</td>\n",
       "      <td>adeservingporcupine</td>\n",
       "      <td>Daniel Haack</td>\n",
       "      <td>4.40</td>\n",
       "      <td>1,211 ratings</td>\n",
       "      <td>329 reviews</td>\n",
       "    </tr>\n",
       "    <tr>\n",
       "      <th>112342</th>\n",
       "      <td>empty</td>\n",
       "      <td>0</td>\n",
       "      <td>5</td>\n",
       "      <td>Prince &amp; Knight</td>\n",
       "      <td>3007564</td>\n",
       "      <td>Tiffany Robinson</td>\n",
       "      <td>Daniel Haack</td>\n",
       "      <td>4.40</td>\n",
       "      <td>1,211 ratings</td>\n",
       "      <td>329 reviews</td>\n",
       "    </tr>\n",
       "    <tr>\n",
       "      <th>112343</th>\n",
       "      <td>empty</td>\n",
       "      <td>0</td>\n",
       "      <td>5</td>\n",
       "      <td>Prince &amp; Knight</td>\n",
       "      <td>22523284</td>\n",
       "      <td>Shay Vande</td>\n",
       "      <td>Daniel Haack</td>\n",
       "      <td>4.40</td>\n",
       "      <td>1,211 ratings</td>\n",
       "      <td>329 reviews</td>\n",
       "    </tr>\n",
       "    <tr>\n",
       "      <th>112344</th>\n",
       "      <td>empty</td>\n",
       "      <td>0</td>\n",
       "      <td>4</td>\n",
       "      <td>Prince &amp; Knight</td>\n",
       "      <td>854459</td>\n",
       "      <td>Wendy Garland</td>\n",
       "      <td>Daniel Haack</td>\n",
       "      <td>4.40</td>\n",
       "      <td>1,211 ratings</td>\n",
       "      <td>329 reviews</td>\n",
       "    </tr>\n",
       "    <tr>\n",
       "      <th>112345</th>\n",
       "      <td>empty</td>\n",
       "      <td>0</td>\n",
       "      <td>5</td>\n",
       "      <td>Prince &amp; Knight</td>\n",
       "      <td>3337872</td>\n",
       "      <td>Kara</td>\n",
       "      <td>Daniel Haack</td>\n",
       "      <td>4.40</td>\n",
       "      <td>1,211 ratings</td>\n",
       "      <td>329 reviews</td>\n",
       "    </tr>\n",
       "    <tr>\n",
       "      <th>112346</th>\n",
       "      <td>empty</td>\n",
       "      <td>0</td>\n",
       "      <td>5</td>\n",
       "      <td>Prince &amp; Knight</td>\n",
       "      <td>35721825</td>\n",
       "      <td>Maggie Tokuda-Hall</td>\n",
       "      <td>Daniel Haack</td>\n",
       "      <td>4.40</td>\n",
       "      <td>1,211 ratings</td>\n",
       "      <td>329 reviews</td>\n",
       "    </tr>\n",
       "    <tr>\n",
       "      <th>112347</th>\n",
       "      <td>empty</td>\n",
       "      <td>0</td>\n",
       "      <td>5</td>\n",
       "      <td>Prince &amp; Knight</td>\n",
       "      <td>6499332</td>\n",
       "      <td>Jessica Rossana</td>\n",
       "      <td>Daniel Haack</td>\n",
       "      <td>4.40</td>\n",
       "      <td>1,211 ratings</td>\n",
       "      <td>329 reviews</td>\n",
       "    </tr>\n",
       "    <tr>\n",
       "      <th>112348</th>\n",
       "      <td>empty</td>\n",
       "      <td>0</td>\n",
       "      <td>5</td>\n",
       "      <td>Prince &amp; Knight</td>\n",
       "      <td>7500362</td>\n",
       "      <td>Tracyp</td>\n",
       "      <td>Daniel Haack</td>\n",
       "      <td>4.40</td>\n",
       "      <td>1,211 ratings</td>\n",
       "      <td>329 reviews</td>\n",
       "    </tr>\n",
       "    <tr>\n",
       "      <th>112349</th>\n",
       "      <td>empty</td>\n",
       "      <td>0</td>\n",
       "      <td>3</td>\n",
       "      <td>Prince &amp; Knight</td>\n",
       "      <td>1624640</td>\n",
       "      <td>Gillian Dawson</td>\n",
       "      <td>Daniel Haack</td>\n",
       "      <td>4.40</td>\n",
       "      <td>1,211 ratings</td>\n",
       "      <td>329 reviews</td>\n",
       "    </tr>\n",
       "    <tr>\n",
       "      <th>112350</th>\n",
       "      <td>empty</td>\n",
       "      <td>0</td>\n",
       "      <td>5</td>\n",
       "      <td>Prince &amp; Knight</td>\n",
       "      <td>16298799</td>\n",
       "      <td>DarkHeraldMage</td>\n",
       "      <td>Daniel Haack</td>\n",
       "      <td>4.40</td>\n",
       "      <td>1,211 ratings</td>\n",
       "      <td>329 reviews</td>\n",
       "    </tr>\n",
       "    <tr>\n",
       "      <th>112351</th>\n",
       "      <td>empty</td>\n",
       "      <td>0</td>\n",
       "      <td>5</td>\n",
       "      <td>Prince &amp; Knight</td>\n",
       "      <td>6415628</td>\n",
       "      <td>Aryn</td>\n",
       "      <td>Daniel Haack</td>\n",
       "      <td>4.40</td>\n",
       "      <td>1,211 ratings</td>\n",
       "      <td>329 reviews</td>\n",
       "    </tr>\n",
       "    <tr>\n",
       "      <th>112352</th>\n",
       "      <td>empty</td>\n",
       "      <td>0</td>\n",
       "      <td>5</td>\n",
       "      <td>Prince &amp; Knight</td>\n",
       "      <td>13762016</td>\n",
       "      <td>Kristina Romero</td>\n",
       "      <td>Daniel Haack</td>\n",
       "      <td>4.40</td>\n",
       "      <td>1,211 ratings</td>\n",
       "      <td>329 reviews</td>\n",
       "    </tr>\n",
       "    <tr>\n",
       "      <th>112353</th>\n",
       "      <td>empty</td>\n",
       "      <td>0</td>\n",
       "      <td>4</td>\n",
       "      <td>Prince &amp; Knight</td>\n",
       "      <td>1938435</td>\n",
       "      <td>Amy!</td>\n",
       "      <td>Daniel Haack</td>\n",
       "      <td>4.40</td>\n",
       "      <td>1,211 ratings</td>\n",
       "      <td>329 reviews</td>\n",
       "    </tr>\n",
       "    <tr>\n",
       "      <th>112354</th>\n",
       "      <td>empty</td>\n",
       "      <td>0</td>\n",
       "      <td>5</td>\n",
       "      <td>Prince &amp; Knight</td>\n",
       "      <td>605843</td>\n",
       "      <td>April</td>\n",
       "      <td>Daniel Haack</td>\n",
       "      <td>4.40</td>\n",
       "      <td>1,211 ratings</td>\n",
       "      <td>329 reviews</td>\n",
       "    </tr>\n",
       "    <tr>\n",
       "      <th>112355</th>\n",
       "      <td>empty</td>\n",
       "      <td>0</td>\n",
       "      <td>4</td>\n",
       "      <td>Prince &amp; Knight</td>\n",
       "      <td>18675325</td>\n",
       "      <td>Hannah Kane</td>\n",
       "      <td>Daniel Haack</td>\n",
       "      <td>4.40</td>\n",
       "      <td>1,211 ratings</td>\n",
       "      <td>329 reviews</td>\n",
       "    </tr>\n",
       "    <tr>\n",
       "      <th>112356</th>\n",
       "      <td>empty</td>\n",
       "      <td>0</td>\n",
       "      <td>5</td>\n",
       "      <td>Prince &amp; Knight</td>\n",
       "      <td>6780536</td>\n",
       "      <td>Heather</td>\n",
       "      <td>Daniel Haack</td>\n",
       "      <td>4.40</td>\n",
       "      <td>1,211 ratings</td>\n",
       "      <td>329 reviews</td>\n",
       "    </tr>\n",
       "    <tr>\n",
       "      <th>112357</th>\n",
       "      <td>empty</td>\n",
       "      <td>0</td>\n",
       "      <td>4</td>\n",
       "      <td>Prince &amp; Knight</td>\n",
       "      <td>4894815</td>\n",
       "      <td>Eileen</td>\n",
       "      <td>Daniel Haack</td>\n",
       "      <td>4.40</td>\n",
       "      <td>1,211 ratings</td>\n",
       "      <td>329 reviews</td>\n",
       "    </tr>\n",
       "    <tr>\n",
       "      <th>112358</th>\n",
       "      <td>empty</td>\n",
       "      <td>0</td>\n",
       "      <td>4</td>\n",
       "      <td>Prince &amp; Knight</td>\n",
       "      <td>8142169</td>\n",
       "      <td>Avery Ellison</td>\n",
       "      <td>Daniel Haack</td>\n",
       "      <td>4.40</td>\n",
       "      <td>1,211 ratings</td>\n",
       "      <td>329 reviews</td>\n",
       "    </tr>\n",
       "  </tbody>\n",
       "</table>\n",
       "<p>5281 rows × 10 columns</p>\n",
       "</div>"
      ],
      "text/plain": [
       "         isbn  likes  rating            title   user_id  \\\n",
       "21783   empty    510       1         The Help    905324   \n",
       "21784   empty    441       4         The Help    406752   \n",
       "21785   empty    377       5         The Help    542037   \n",
       "21786   empty    293       1         The Help    536912   \n",
       "21787   empty    270       2         The Help   2927182   \n",
       "21788   empty    263       4         The Help  14596170   \n",
       "21789   empty    236       5         The Help     45618   \n",
       "21790   empty    222       5         The Help  41788524   \n",
       "21791   empty    206       5         The Help  50966861   \n",
       "21792   empty    184       4         The Help   7365405   \n",
       "21793   empty    160       5         The Help    763271   \n",
       "21794   empty    153       5         The Help   7234171   \n",
       "21795   empty    150       1         The Help   1845121   \n",
       "21796   empty    147       4         The Help   4426615   \n",
       "21797   empty    148       5         The Help  21690081   \n",
       "21798   empty    127       1         The Help   2250020   \n",
       "21799   empty    116       5         The Help  20906165   \n",
       "21800   empty    125       5         The Help   5903843   \n",
       "21801   empty     99       5         The Help   2018505   \n",
       "21802   empty     92       4         The Help  46088881   \n",
       "21803   empty     89       4         The Help   1526851   \n",
       "21804   empty     88       4         The Help   1199525   \n",
       "21805   empty     87       4         The Help    614778   \n",
       "21806   empty     84       5         The Help   1246837   \n",
       "21807   empty     84       5         The Help  19760612   \n",
       "21808   empty     82       5         The Help  63168028   \n",
       "21809   empty     79       5         The Help    307208   \n",
       "21810   empty     72       5         The Help     39755   \n",
       "21811   empty     67       4         The Help  34178791   \n",
       "21812   empty     66       5         The Help  28198445   \n",
       "...       ...    ...     ...              ...       ...   \n",
       "112329  empty      0       4  Prince & Knight  31567910   \n",
       "112330  empty      0       5  Prince & Knight  39727559   \n",
       "112331  empty      0       4  Prince & Knight    436811   \n",
       "112332  empty      0       5  Prince & Knight  12662938   \n",
       "112333  empty      0       5  Prince & Knight   7515348   \n",
       "112334  empty      0       4  Prince & Knight  63405646   \n",
       "112335  empty      0       5  Prince & Knight  10932595   \n",
       "112336  empty      0       5  Prince & Knight  10553671   \n",
       "112337  empty      0       5  Prince & Knight  75277569   \n",
       "112338  empty      0       5  Prince & Knight  27884410   \n",
       "112339  empty      0       5  Prince & Knight  89878899   \n",
       "112340  empty      0       5  Prince & Knight  32804259   \n",
       "112341  empty      0       5  Prince & Knight   1435072   \n",
       "112342  empty      0       5  Prince & Knight   3007564   \n",
       "112343  empty      0       5  Prince & Knight  22523284   \n",
       "112344  empty      0       4  Prince & Knight    854459   \n",
       "112345  empty      0       5  Prince & Knight   3337872   \n",
       "112346  empty      0       5  Prince & Knight  35721825   \n",
       "112347  empty      0       5  Prince & Knight   6499332   \n",
       "112348  empty      0       5  Prince & Knight   7500362   \n",
       "112349  empty      0       3  Prince & Knight   1624640   \n",
       "112350  empty      0       5  Prince & Knight  16298799   \n",
       "112351  empty      0       5  Prince & Knight   6415628   \n",
       "112352  empty      0       5  Prince & Knight  13762016   \n",
       "112353  empty      0       4  Prince & Knight   1938435   \n",
       "112354  empty      0       5  Prince & Knight    605843   \n",
       "112355  empty      0       4  Prince & Knight  18675325   \n",
       "112356  empty      0       5  Prince & Knight   6780536   \n",
       "112357  empty      0       4  Prince & Knight   4894815   \n",
       "112358  empty      0       4  Prince & Knight   8142169   \n",
       "\n",
       "                                          user_name            author  \\\n",
       "21783                                      Caroline  Kathryn Stockett   \n",
       "21784                                           Joe  Kathryn Stockett   \n",
       "21785                                      Annalisa  Kathryn Stockett   \n",
       "21786                                        Maegen  Kathryn Stockett   \n",
       "21787                                         Ellen  Kathryn Stockett   \n",
       "21788                                          Lola  Kathryn Stockett   \n",
       "21789                                         karen  Kathryn Stockett   \n",
       "21790                                           Kai  Kathryn Stockett   \n",
       "21791                                       Majenta  Kathryn Stockett   \n",
       "21792                                         James  Kathryn Stockett   \n",
       "21793                                         Nancy  Kathryn Stockett   \n",
       "21794                                        Jaline  Kathryn Stockett   \n",
       "21795                                      Salome G  Kathryn Stockett   \n",
       "21796                                         Jason  Kathryn Stockett   \n",
       "21797                                     Dana Ilie  Kathryn Stockett   \n",
       "21798                                       Tatiana  Kathryn Stockett   \n",
       "21799                                            JV  Kathryn Stockett   \n",
       "21800                                          Matt  Kathryn Stockett   \n",
       "21801                                        Thomas  Kathryn Stockett   \n",
       "21802                                Reading Corner  Kathryn Stockett   \n",
       "21803                                   Will Byrnes  Kathryn Stockett   \n",
       "21804                                        Cecily  Kathryn Stockett   \n",
       "21805                              Ahmad Sharabiani  Kathryn Stockett   \n",
       "21806                             Maggie Stiefvater  Kathryn Stockett   \n",
       "21807                                       Praveen  Kathryn Stockett   \n",
       "21808                                         Peter  Kathryn Stockett   \n",
       "21809                                          Lucy  Kathryn Stockett   \n",
       "21810                                            eb  Kathryn Stockett   \n",
       "21811                             Natalie Vellacott  Kathryn Stockett   \n",
       "21812                   Ivana - Diary of Difference  Kathryn Stockett   \n",
       "...                                             ...               ...   \n",
       "112329                                       Taarna      Daniel Haack   \n",
       "112330                                        ellis      Daniel Haack   \n",
       "112331                                       Trevor      Daniel Haack   \n",
       "112332                               Nikki Glassley      Daniel Haack   \n",
       "112333                                         Kate      Daniel Haack   \n",
       "112334                            Paulina Velazquez      Daniel Haack   \n",
       "112335                                       Kellie      Daniel Haack   \n",
       "112336                      Kimberly Wright Oelkers      Daniel Haack   \n",
       "112337                                Denise Menger      Daniel Haack   \n",
       "112338                              Jillian Frasher      Daniel Haack   \n",
       "112339                               Maude Ragsdale      Daniel Haack   \n",
       "112340  Morgan &#x1f469;‍&#x1f393;&#x1f4da; Paukner      Daniel Haack   \n",
       "112341                          adeservingporcupine      Daniel Haack   \n",
       "112342                             Tiffany Robinson      Daniel Haack   \n",
       "112343                                   Shay Vande      Daniel Haack   \n",
       "112344                                Wendy Garland      Daniel Haack   \n",
       "112345                                         Kara      Daniel Haack   \n",
       "112346                           Maggie Tokuda-Hall      Daniel Haack   \n",
       "112347                              Jessica Rossana      Daniel Haack   \n",
       "112348                                       Tracyp      Daniel Haack   \n",
       "112349                               Gillian Dawson      Daniel Haack   \n",
       "112350                               DarkHeraldMage      Daniel Haack   \n",
       "112351                                         Aryn      Daniel Haack   \n",
       "112352                              Kristina Romero      Daniel Haack   \n",
       "112353                                         Amy!      Daniel Haack   \n",
       "112354                                        April      Daniel Haack   \n",
       "112355                                  Hannah Kane      Daniel Haack   \n",
       "112356                                      Heather      Daniel Haack   \n",
       "112357                                       Eileen      Daniel Haack   \n",
       "112358                                Avery Ellison      Daniel Haack   \n",
       "\n",
       "        mean_rating        num_ratings     num_reviews  \n",
       "21783          4.46  1,874,160 ratings  81,826 reviews  \n",
       "21784          4.46  1,874,160 ratings  81,826 reviews  \n",
       "21785          4.46  1,874,160 ratings  81,826 reviews  \n",
       "21786          4.46  1,874,160 ratings  81,826 reviews  \n",
       "21787          4.46  1,874,160 ratings  81,826 reviews  \n",
       "21788          4.46  1,874,160 ratings  81,826 reviews  \n",
       "21789          4.46  1,874,160 ratings  81,826 reviews  \n",
       "21790          4.46  1,874,160 ratings  81,826 reviews  \n",
       "21791          4.46  1,874,160 ratings  81,826 reviews  \n",
       "21792          4.46  1,874,160 ratings  81,826 reviews  \n",
       "21793          4.46  1,874,160 ratings  81,826 reviews  \n",
       "21794          4.46  1,874,160 ratings  81,826 reviews  \n",
       "21795          4.46  1,874,160 ratings  81,826 reviews  \n",
       "21796          4.46  1,874,160 ratings  81,826 reviews  \n",
       "21797          4.46  1,874,160 ratings  81,826 reviews  \n",
       "21798          4.46  1,874,160 ratings  81,826 reviews  \n",
       "21799          4.46  1,874,160 ratings  81,826 reviews  \n",
       "21800          4.46  1,874,160 ratings  81,826 reviews  \n",
       "21801          4.46  1,874,160 ratings  81,826 reviews  \n",
       "21802          4.46  1,874,160 ratings  81,826 reviews  \n",
       "21803          4.46  1,874,160 ratings  81,826 reviews  \n",
       "21804          4.46  1,874,160 ratings  81,826 reviews  \n",
       "21805          4.46  1,874,160 ratings  81,826 reviews  \n",
       "21806          4.46  1,874,160 ratings  81,826 reviews  \n",
       "21807          4.46  1,874,160 ratings  81,826 reviews  \n",
       "21808          4.46  1,874,160 ratings  81,826 reviews  \n",
       "21809          4.46  1,874,160 ratings  81,826 reviews  \n",
       "21810          4.46  1,874,160 ratings  81,826 reviews  \n",
       "21811          4.46  1,874,160 ratings  81,826 reviews  \n",
       "21812          4.46  1,874,160 ratings  81,826 reviews  \n",
       "...             ...                ...             ...  \n",
       "112329         4.40      1,211 ratings     329 reviews  \n",
       "112330         4.40      1,211 ratings     329 reviews  \n",
       "112331         4.40      1,211 ratings     329 reviews  \n",
       "112332         4.40      1,211 ratings     329 reviews  \n",
       "112333         4.40      1,211 ratings     329 reviews  \n",
       "112334         4.40      1,211 ratings     329 reviews  \n",
       "112335         4.40      1,211 ratings     329 reviews  \n",
       "112336         4.40      1,211 ratings     329 reviews  \n",
       "112337         4.40      1,211 ratings     329 reviews  \n",
       "112338         4.40      1,211 ratings     329 reviews  \n",
       "112339         4.40      1,211 ratings     329 reviews  \n",
       "112340         4.40      1,211 ratings     329 reviews  \n",
       "112341         4.40      1,211 ratings     329 reviews  \n",
       "112342         4.40      1,211 ratings     329 reviews  \n",
       "112343         4.40      1,211 ratings     329 reviews  \n",
       "112344         4.40      1,211 ratings     329 reviews  \n",
       "112345         4.40      1,211 ratings     329 reviews  \n",
       "112346         4.40      1,211 ratings     329 reviews  \n",
       "112347         4.40      1,211 ratings     329 reviews  \n",
       "112348         4.40      1,211 ratings     329 reviews  \n",
       "112349         4.40      1,211 ratings     329 reviews  \n",
       "112350         4.40      1,211 ratings     329 reviews  \n",
       "112351         4.40      1,211 ratings     329 reviews  \n",
       "112352         4.40      1,211 ratings     329 reviews  \n",
       "112353         4.40      1,211 ratings     329 reviews  \n",
       "112354         4.40      1,211 ratings     329 reviews  \n",
       "112355         4.40      1,211 ratings     329 reviews  \n",
       "112356         4.40      1,211 ratings     329 reviews  \n",
       "112357         4.40      1,211 ratings     329 reviews  \n",
       "112358         4.40      1,211 ratings     329 reviews  \n",
       "\n",
       "[5281 rows x 10 columns]"
      ]
     },
     "execution_count": 19,
     "metadata": {},
     "output_type": "execute_result"
    }
   ],
   "source": [
    "# checking for isbns that are missing\n",
    "df[df.isbn == 'empty']"
   ]
  },
  {
   "cell_type": "code",
   "execution_count": 23,
   "metadata": {},
   "outputs": [
    {
     "data": {
      "text/plain": [
       "21783    empty\n",
       "21784    empty\n",
       "21785    empty\n",
       "21786    empty\n",
       "21787    empty\n",
       "21788    empty\n",
       "21789    empty\n",
       "21790    empty\n",
       "21791    empty\n",
       "21792    empty\n",
       "21793    empty\n",
       "21794    empty\n",
       "21795    empty\n",
       "21796    empty\n",
       "21797    empty\n",
       "21798    empty\n",
       "21799    empty\n",
       "21800    empty\n",
       "21801    empty\n",
       "21802    empty\n",
       "21803    empty\n",
       "21804    empty\n",
       "21805    empty\n",
       "21806    empty\n",
       "21807    empty\n",
       "21808    empty\n",
       "21809    empty\n",
       "21810    empty\n",
       "21811    empty\n",
       "21812    empty\n",
       "         ...  \n",
       "22049    empty\n",
       "22050    empty\n",
       "22051    empty\n",
       "22052    empty\n",
       "22053    empty\n",
       "22054    empty\n",
       "22055    empty\n",
       "22056    empty\n",
       "22057    empty\n",
       "22058    empty\n",
       "22059    empty\n",
       "22060    empty\n",
       "22061    empty\n",
       "22062    empty\n",
       "22063    empty\n",
       "22064    empty\n",
       "22065    empty\n",
       "22066    empty\n",
       "22067    empty\n",
       "22068    empty\n",
       "22069    empty\n",
       "22070    empty\n",
       "22071    empty\n",
       "22072    empty\n",
       "22073    empty\n",
       "22074    empty\n",
       "22075    empty\n",
       "22076    empty\n",
       "22077    empty\n",
       "22078    empty\n",
       "Name: isbn, Length: 296, dtype: object"
      ]
     },
     "execution_count": 23,
     "metadata": {},
     "output_type": "execute_result"
    }
   ],
   "source": [
    "df.loc[df.title == 'The Help', 'isbn']"
   ]
  },
  {
   "cell_type": "code",
   "execution_count": 24,
   "metadata": {},
   "outputs": [],
   "source": [
    "# mapping isbns to ones that are missing\n",
    "df.loc[df.title == 'The Help', 'isbn'] = '0425232204'\n",
    "df.loc[df.title == 'Gone Girl', 'isbn'] = '0307588378'\n",
    "df.loc[df.title == 'The Fault in Our Stars', 'isbn'] = '014242417X'\n",
    "df.loc[df.title == 'This Will Only Hurt a Little', 'isbn']  = '1508268827'\n",
    "df.loc[df.title == \"I'll Be Gone in the Dark: One Woman's Obsessive Search for the Golden State Killer\",\n",
    "       'isbn'] = '0062319787'\n",
    "df.loc[df.title == 'Whiskey in a Teacup: What Growing Up in the South Taught Me About Life, Love, & Baking Biscuits',\n",
    "       'isbn'] = '1501166271'\n",
    "df.loc[df.title == 'Atomic Habits: An Easy & Proven Way to Build Good Habits & Break Bad Ones', 'isbn'] = '0735211299'\n",
    "df.loc[df.title == 'The Feather Thief: Beauty, Obsession, and the Natural History Heist of the Century',\n",
    "       'isbn'] = '1101981636'\n",
    "df.loc[df.title == 'Becoming', 'isbn'] = '1524763136'\n",
    "df.loc[df.title == 'Cook Like a Pro: Recipes and Tips for Home Cooks', 'isbn'] = '0804187045'\n",
    "df.loc[df.title == 'Sweet Revenge: Passive-Aggressive Desserts for Your Exes & Enemies', 'isbn'] = '1630790893'\n",
    "df.loc[df.title == 'Skinnytaste One and Done: 140 No-Fuss Dinners for Your Instant Pot®, Slow Cooker, Air Fryer, Sheet Pan, Skillet, Dutch Oven, and More: 140 No-Fuss Dinners Sheet Pan, Skillet, Dutch Oven, and More', \n",
    "       'isbn'] = '1524762156'\n",
    "df.loc[df.title == 'Now & Again: Go-To Recipes, Inspired Menus + Endless Ideas for Reinventing Leftovers', \n",
    "       'isbn'] = '1452164967',\n",
    "df.loc[df.title == 'Saga, Vol. 8','isbn'] = '1534303499'\n",
    "df.loc[df.title == 'A Love Letter from the Girls Who Feel Everything','isbn'] = '1732747903'\n",
    "df.loc[df.title == 'Truly Devious', 'isbn'] = '0062338056'\n",
    "df.loc[df.title == 'I Was Born for This', 'isbn'] = '000824409X'\n",
    "df.loc[df.title == 'Lulu is a Rhinoceros', 'isbn'] = '0692070982'\n",
    "df.loc[df.title == 'Prince & Knight', 'isbn'] = '1338564641'   "
   ]
  },
  {
   "cell_type": "code",
   "execution_count": 25,
   "metadata": {},
   "outputs": [
    {
     "data": {
      "text/html": [
       "<div>\n",
       "<style scoped>\n",
       "    .dataframe tbody tr th:only-of-type {\n",
       "        vertical-align: middle;\n",
       "    }\n",
       "\n",
       "    .dataframe tbody tr th {\n",
       "        vertical-align: top;\n",
       "    }\n",
       "\n",
       "    .dataframe thead th {\n",
       "        text-align: right;\n",
       "    }\n",
       "</style>\n",
       "<table border=\"1\" class=\"dataframe\">\n",
       "  <thead>\n",
       "    <tr style=\"text-align: right;\">\n",
       "      <th></th>\n",
       "      <th>isbn</th>\n",
       "      <th>likes</th>\n",
       "      <th>rating</th>\n",
       "      <th>title</th>\n",
       "      <th>user_id</th>\n",
       "      <th>user_name</th>\n",
       "      <th>author</th>\n",
       "      <th>mean_rating</th>\n",
       "      <th>num_ratings</th>\n",
       "      <th>num_reviews</th>\n",
       "    </tr>\n",
       "  </thead>\n",
       "  <tbody>\n",
       "  </tbody>\n",
       "</table>\n",
       "</div>"
      ],
      "text/plain": [
       "Empty DataFrame\n",
       "Columns: [isbn, likes, rating, title, user_id, user_name, author, mean_rating, num_ratings, num_reviews]\n",
       "Index: []"
      ]
     },
     "execution_count": 25,
     "metadata": {},
     "output_type": "execute_result"
    }
   ],
   "source": [
    "# checking to make sure it worked\n",
    "df[df.isbn == 'empty']"
   ]
  },
  {
   "cell_type": "code",
   "execution_count": 27,
   "metadata": {},
   "outputs": [
    {
     "data": {
      "text/html": [
       "<div>\n",
       "<style scoped>\n",
       "    .dataframe tbody tr th:only-of-type {\n",
       "        vertical-align: middle;\n",
       "    }\n",
       "\n",
       "    .dataframe tbody tr th {\n",
       "        vertical-align: top;\n",
       "    }\n",
       "\n",
       "    .dataframe thead th {\n",
       "        text-align: right;\n",
       "    }\n",
       "</style>\n",
       "<table border=\"1\" class=\"dataframe\">\n",
       "  <thead>\n",
       "    <tr style=\"text-align: right;\">\n",
       "      <th></th>\n",
       "      <th>isbn</th>\n",
       "      <th>likes</th>\n",
       "      <th>rating</th>\n",
       "      <th>title</th>\n",
       "      <th>user_id</th>\n",
       "      <th>user_name</th>\n",
       "      <th>author</th>\n",
       "      <th>mean_rating</th>\n",
       "      <th>num_ratings</th>\n",
       "      <th>num_reviews</th>\n",
       "    </tr>\n",
       "  </thead>\n",
       "  <tbody>\n",
       "    <tr>\n",
       "      <th>0</th>\n",
       "      <td>0399562451</td>\n",
       "      <td>390</td>\n",
       "      <td>3</td>\n",
       "      <td>Still Me</td>\n",
       "      <td>9684061</td>\n",
       "      <td>Melissa</td>\n",
       "      <td>Jojo Moyes</td>\n",
       "      <td>4.17</td>\n",
       "      <td>96,193 ratings</td>\n",
       "      <td>9,442 reviews</td>\n",
       "    </tr>\n",
       "    <tr>\n",
       "      <th>1</th>\n",
       "      <td>0399562451</td>\n",
       "      <td>309</td>\n",
       "      <td>3</td>\n",
       "      <td>Still Me</td>\n",
       "      <td>5032725</td>\n",
       "      <td>Debra</td>\n",
       "      <td>Jojo Moyes</td>\n",
       "      <td>4.17</td>\n",
       "      <td>96,193 ratings</td>\n",
       "      <td>9,442 reviews</td>\n",
       "    </tr>\n",
       "    <tr>\n",
       "      <th>2</th>\n",
       "      <td>0399562451</td>\n",
       "      <td>262</td>\n",
       "      <td>5</td>\n",
       "      <td>Still Me</td>\n",
       "      <td>31840755</td>\n",
       "      <td>Ihcene</td>\n",
       "      <td>Jojo Moyes</td>\n",
       "      <td>4.17</td>\n",
       "      <td>96,193 ratings</td>\n",
       "      <td>9,442 reviews</td>\n",
       "    </tr>\n",
       "    <tr>\n",
       "      <th>3</th>\n",
       "      <td>0399562451</td>\n",
       "      <td>208</td>\n",
       "      <td>5</td>\n",
       "      <td>Still Me</td>\n",
       "      <td>665584</td>\n",
       "      <td>Alejandro</td>\n",
       "      <td>Jojo Moyes</td>\n",
       "      <td>4.17</td>\n",
       "      <td>96,193 ratings</td>\n",
       "      <td>9,442 reviews</td>\n",
       "    </tr>\n",
       "    <tr>\n",
       "      <th>4</th>\n",
       "      <td>0399562451</td>\n",
       "      <td>189</td>\n",
       "      <td>5</td>\n",
       "      <td>Still Me</td>\n",
       "      <td>57991562</td>\n",
       "      <td>Pauline</td>\n",
       "      <td>Jojo Moyes</td>\n",
       "      <td>4.17</td>\n",
       "      <td>96,193 ratings</td>\n",
       "      <td>9,442 reviews</td>\n",
       "    </tr>\n",
       "  </tbody>\n",
       "</table>\n",
       "</div>"
      ],
      "text/plain": [
       "         isbn  likes  rating     title   user_id  user_name      author  \\\n",
       "0  0399562451    390       3  Still Me   9684061    Melissa  Jojo Moyes   \n",
       "1  0399562451    309       3  Still Me   5032725      Debra  Jojo Moyes   \n",
       "2  0399562451    262       5  Still Me  31840755     Ihcene  Jojo Moyes   \n",
       "3  0399562451    208       5  Still Me    665584  Alejandro  Jojo Moyes   \n",
       "4  0399562451    189       5  Still Me  57991562    Pauline  Jojo Moyes   \n",
       "\n",
       "   mean_rating     num_ratings    num_reviews  \n",
       "0         4.17  96,193 ratings  9,442 reviews  \n",
       "1         4.17  96,193 ratings  9,442 reviews  \n",
       "2         4.17  96,193 ratings  9,442 reviews  \n",
       "3         4.17  96,193 ratings  9,442 reviews  \n",
       "4         4.17  96,193 ratings  9,442 reviews  "
      ]
     },
     "execution_count": 27,
     "metadata": {},
     "output_type": "execute_result"
    }
   ],
   "source": [
    "df.head()"
   ]
  },
  {
   "cell_type": "code",
   "execution_count": 28,
   "metadata": {},
   "outputs": [
    {
     "name": "stdout",
     "output_type": "stream",
     "text": [
      "<class 'pandas.core.frame.DataFrame'>\n",
      "Int64Index: 113248 entries, 0 to 113247\n",
      "Data columns (total 10 columns):\n",
      "isbn           113248 non-null object\n",
      "likes          113248 non-null int64\n",
      "rating         113248 non-null int64\n",
      "title          113248 non-null object\n",
      "user_id        113248 non-null int64\n",
      "user_name      113248 non-null object\n",
      "author         113248 non-null object\n",
      "mean_rating    113248 non-null float64\n",
      "num_ratings    113248 non-null object\n",
      "num_reviews    113248 non-null object\n",
      "dtypes: float64(1), int64(3), object(6)\n",
      "memory usage: 9.5+ MB\n"
     ]
    }
   ],
   "source": [
    "df.info()"
   ]
  },
  {
   "cell_type": "code",
   "execution_count": 41,
   "metadata": {},
   "outputs": [],
   "source": [
    "# saving final df!\n",
    "df.to_csv('final_df.csv')"
   ]
  },
  {
   "cell_type": "code",
   "execution_count": 131,
   "metadata": {},
   "outputs": [
    {
     "data": {
      "text/plain": [
       "3772"
      ]
     },
     "execution_count": 131,
     "metadata": {},
     "output_type": "execute_result"
    }
   ],
   "source": [
    "# checking for number of users who have at least 5 reviews\n",
    "(df.user_id.value_counts() >= 5).sum()"
   ]
  },
  {
   "cell_type": "code",
   "execution_count": 44,
   "metadata": {
    "scrolled": true
   },
   "outputs": [],
   "source": [
    "# creating filter for df to only look at reviews from users with at least 5 reviews\n",
    "filtered = df.groupby('user_id').filter(lambda x: len(x) >= 5)"
   ]
  },
  {
   "cell_type": "code",
   "execution_count": 49,
   "metadata": {},
   "outputs": [
    {
     "data": {
      "text/plain": [
       "4622890.0     86\n",
       "597461.0      79\n",
       "10171516.0    67\n",
       "14596170.0    62\n",
       "13126933.0    58\n",
       "7582369.0     58\n",
       "49148508.0    57\n",
       "1277371.0     54\n",
       "11183856.0    50\n",
       "4159922.0     49\n",
       "17438949.0    49\n",
       "54835325.0    49\n",
       "16219087.0    48\n",
       "5872506.0     48\n",
       "3030788.0     48\n",
       "4213258.0     48\n",
       "13650342.0    46\n",
       "1072080.0     46\n",
       "4852457.0     46\n",
       "14514998.0    46\n",
       "68030.0       46\n",
       "269235.0      45\n",
       "1045774.0     45\n",
       "1880531.0     44\n",
       "58160628.0    43\n",
       "26560207.0    42\n",
       "28266634.0    41\n",
       "15335689.0    40\n",
       "2473504.0     40\n",
       "4379514.0     39\n",
       "              ..\n",
       "23384676.0     5\n",
       "31787045.0     5\n",
       "5454021.0      5\n",
       "26560507.0     5\n",
       "4105905.0      5\n",
       "28892382.0     5\n",
       "2202325.0      5\n",
       "45526328.0     5\n",
       "26555647.0     5\n",
       "70479517.0     5\n",
       "111921.0       5\n",
       "2426006.0      5\n",
       "9202801.0      5\n",
       "6145504.0      5\n",
       "48564.0        5\n",
       "9080319.0      5\n",
       "58134125.0     5\n",
       "58121880.0     5\n",
       "5937919.0      5\n",
       "125546.0       5\n",
       "4600913.0      5\n",
       "10249988.0     5\n",
       "5588092.0      5\n",
       "7552897.0      5\n",
       "416888.0       5\n",
       "59357213.0     5\n",
       "39111404.0     5\n",
       "41356020.0     5\n",
       "83159.0        5\n",
       "1310688.0      5\n",
       "Name: user_id, Length: 3772, dtype: int64"
      ]
     },
     "execution_count": 49,
     "metadata": {},
     "output_type": "execute_result"
    }
   ],
   "source": [
    "# checking to see if the filter worked before making it permanent\n",
    "df[df.isin(filtered)].dropna().user_id.value_counts()"
   ]
  },
  {
   "cell_type": "code",
   "execution_count": 50,
   "metadata": {},
   "outputs": [],
   "source": [
    "new_df = df[df.isin(filtered)].dropna()"
   ]
  },
  {
   "cell_type": "code",
   "execution_count": 52,
   "metadata": {},
   "outputs": [
    {
     "data": {
      "text/plain": [
       "3772"
      ]
     },
     "execution_count": 52,
     "metadata": {},
     "output_type": "execute_result"
    }
   ],
   "source": [
    "# double checking again and values match!\n",
    "new_df.user_id.nunique()"
   ]
  },
  {
   "cell_type": "code",
   "execution_count": 62,
   "metadata": {
    "scrolled": true
   },
   "outputs": [
    {
     "data": {
      "text/html": [
       "<div>\n",
       "<style scoped>\n",
       "    .dataframe tbody tr th:only-of-type {\n",
       "        vertical-align: middle;\n",
       "    }\n",
       "\n",
       "    .dataframe tbody tr th {\n",
       "        vertical-align: top;\n",
       "    }\n",
       "\n",
       "    .dataframe thead th {\n",
       "        text-align: right;\n",
       "    }\n",
       "</style>\n",
       "<table border=\"1\" class=\"dataframe\">\n",
       "  <thead>\n",
       "    <tr style=\"text-align: right;\">\n",
       "      <th></th>\n",
       "      <th>isbn</th>\n",
       "      <th>likes</th>\n",
       "      <th>rating</th>\n",
       "      <th>title</th>\n",
       "      <th>user_id</th>\n",
       "      <th>user_name</th>\n",
       "      <th>author</th>\n",
       "      <th>mean_rating</th>\n",
       "      <th>num_ratings</th>\n",
       "      <th>num_reviews</th>\n",
       "    </tr>\n",
       "  </thead>\n",
       "  <tbody>\n",
       "    <tr>\n",
       "      <th>0</th>\n",
       "      <td>0399562451</td>\n",
       "      <td>390</td>\n",
       "      <td>3</td>\n",
       "      <td>Still Me</td>\n",
       "      <td>9684061</td>\n",
       "      <td>Melissa</td>\n",
       "      <td>Jojo Moyes</td>\n",
       "      <td>4.17</td>\n",
       "      <td>96193</td>\n",
       "      <td>9,442 reviews</td>\n",
       "    </tr>\n",
       "    <tr>\n",
       "      <th>1</th>\n",
       "      <td>0399562451</td>\n",
       "      <td>309</td>\n",
       "      <td>3</td>\n",
       "      <td>Still Me</td>\n",
       "      <td>5032725</td>\n",
       "      <td>Debra</td>\n",
       "      <td>Jojo Moyes</td>\n",
       "      <td>4.17</td>\n",
       "      <td>96193</td>\n",
       "      <td>9,442 reviews</td>\n",
       "    </tr>\n",
       "    <tr>\n",
       "      <th>3</th>\n",
       "      <td>0399562451</td>\n",
       "      <td>208</td>\n",
       "      <td>5</td>\n",
       "      <td>Still Me</td>\n",
       "      <td>665584</td>\n",
       "      <td>Alejandro</td>\n",
       "      <td>Jojo Moyes</td>\n",
       "      <td>4.17</td>\n",
       "      <td>96193</td>\n",
       "      <td>9,442 reviews</td>\n",
       "    </tr>\n",
       "    <tr>\n",
       "      <th>4</th>\n",
       "      <td>0399562451</td>\n",
       "      <td>189</td>\n",
       "      <td>5</td>\n",
       "      <td>Still Me</td>\n",
       "      <td>57991562</td>\n",
       "      <td>Pauline</td>\n",
       "      <td>Jojo Moyes</td>\n",
       "      <td>4.17</td>\n",
       "      <td>96193</td>\n",
       "      <td>9,442 reviews</td>\n",
       "    </tr>\n",
       "    <tr>\n",
       "      <th>5</th>\n",
       "      <td>0399562451</td>\n",
       "      <td>169</td>\n",
       "      <td>4</td>\n",
       "      <td>Still Me</td>\n",
       "      <td>5872506</td>\n",
       "      <td>Larry H</td>\n",
       "      <td>Jojo Moyes</td>\n",
       "      <td>4.17</td>\n",
       "      <td>96193</td>\n",
       "      <td>9,442 reviews</td>\n",
       "    </tr>\n",
       "  </tbody>\n",
       "</table>\n",
       "</div>"
      ],
      "text/plain": [
       "         isbn  likes  rating     title   user_id  user_name      author  \\\n",
       "0  0399562451    390       3  Still Me   9684061    Melissa  Jojo Moyes   \n",
       "1  0399562451    309       3  Still Me   5032725      Debra  Jojo Moyes   \n",
       "3  0399562451    208       5  Still Me    665584  Alejandro  Jojo Moyes   \n",
       "4  0399562451    189       5  Still Me  57991562    Pauline  Jojo Moyes   \n",
       "5  0399562451    169       4  Still Me   5872506    Larry H  Jojo Moyes   \n",
       "\n",
       "   mean_rating  num_ratings    num_reviews  \n",
       "0         4.17        96193  9,442 reviews  \n",
       "1         4.17        96193  9,442 reviews  \n",
       "3         4.17        96193  9,442 reviews  \n",
       "4         4.17        96193  9,442 reviews  \n",
       "5         4.17        96193  9,442 reviews  "
      ]
     },
     "execution_count": 62,
     "metadata": {},
     "output_type": "execute_result"
    }
   ],
   "source": [
    "new_df.head()"
   ]
  },
  {
   "cell_type": "code",
   "execution_count": 109,
   "metadata": {},
   "outputs": [],
   "source": [
    "# cleaning likes column\n",
    "df.likes = df.likes.str.strip(' likes')\n",
    "df.likes = df.likes.fillna(0)"
   ]
  },
  {
   "cell_type": "code",
   "execution_count": 110,
   "metadata": {},
   "outputs": [
    {
     "data": {
      "text/plain": [
       "0    6157\n",
       "1    3935\n",
       "2    2434\n",
       "3    1484\n",
       "4    1036\n",
       "Name: likes, dtype: int64"
      ]
     },
     "execution_count": 110,
     "metadata": {},
     "output_type": "execute_result"
    }
   ],
   "source": [
    "df.likes.value_counts().head()"
   ]
  },
  {
   "cell_type": "code",
   "execution_count": 55,
   "metadata": {},
   "outputs": [],
   "source": [
    "# converting some columns to ints for some reason they changed to floats\n",
    "new_df.likes = new_df.likes.astype(int)"
   ]
  },
  {
   "cell_type": "code",
   "execution_count": 57,
   "metadata": {},
   "outputs": [],
   "source": [
    "new_df.rating = new_df.rating.astype(int)"
   ]
  },
  {
   "cell_type": "code",
   "execution_count": 59,
   "metadata": {},
   "outputs": [],
   "source": [
    "new_df.user_id = new_df.user_id.astype(int)"
   ]
  },
  {
   "cell_type": "code",
   "execution_count": 61,
   "metadata": {},
   "outputs": [],
   "source": [
    "# cleaningr atings column\n",
    "new_df.num_ratings = new_df.num_ratings.str.strip(' ratings').str.replace(',','').astype(int)"
   ]
  },
  {
   "cell_type": "code",
   "execution_count": 63,
   "metadata": {},
   "outputs": [
    {
     "data": {
      "text/plain": [
       "dtype('int32')"
      ]
     },
     "execution_count": 63,
     "metadata": {},
     "output_type": "execute_result"
    }
   ],
   "source": [
    "new_df.num_ratings.dtype"
   ]
  },
  {
   "cell_type": "code",
   "execution_count": 65,
   "metadata": {},
   "outputs": [
    {
     "data": {
      "text/html": [
       "<div>\n",
       "<style scoped>\n",
       "    .dataframe tbody tr th:only-of-type {\n",
       "        vertical-align: middle;\n",
       "    }\n",
       "\n",
       "    .dataframe tbody tr th {\n",
       "        vertical-align: top;\n",
       "    }\n",
       "\n",
       "    .dataframe thead th {\n",
       "        text-align: right;\n",
       "    }\n",
       "</style>\n",
       "<table border=\"1\" class=\"dataframe\">\n",
       "  <thead>\n",
       "    <tr style=\"text-align: right;\">\n",
       "      <th></th>\n",
       "      <th>isbn</th>\n",
       "      <th>likes</th>\n",
       "      <th>rating</th>\n",
       "      <th>title</th>\n",
       "      <th>user_id</th>\n",
       "      <th>user_name</th>\n",
       "      <th>author</th>\n",
       "      <th>mean_rating</th>\n",
       "      <th>num_ratings</th>\n",
       "      <th>num_reviews</th>\n",
       "    </tr>\n",
       "  </thead>\n",
       "  <tbody>\n",
       "    <tr>\n",
       "      <th>0</th>\n",
       "      <td>0399562451</td>\n",
       "      <td>390</td>\n",
       "      <td>3</td>\n",
       "      <td>Still Me</td>\n",
       "      <td>9684061</td>\n",
       "      <td>Melissa</td>\n",
       "      <td>Jojo Moyes</td>\n",
       "      <td>4.17</td>\n",
       "      <td>96193</td>\n",
       "      <td>9442</td>\n",
       "    </tr>\n",
       "    <tr>\n",
       "      <th>1</th>\n",
       "      <td>0399562451</td>\n",
       "      <td>309</td>\n",
       "      <td>3</td>\n",
       "      <td>Still Me</td>\n",
       "      <td>5032725</td>\n",
       "      <td>Debra</td>\n",
       "      <td>Jojo Moyes</td>\n",
       "      <td>4.17</td>\n",
       "      <td>96193</td>\n",
       "      <td>9442</td>\n",
       "    </tr>\n",
       "    <tr>\n",
       "      <th>3</th>\n",
       "      <td>0399562451</td>\n",
       "      <td>208</td>\n",
       "      <td>5</td>\n",
       "      <td>Still Me</td>\n",
       "      <td>665584</td>\n",
       "      <td>Alejandro</td>\n",
       "      <td>Jojo Moyes</td>\n",
       "      <td>4.17</td>\n",
       "      <td>96193</td>\n",
       "      <td>9442</td>\n",
       "    </tr>\n",
       "    <tr>\n",
       "      <th>4</th>\n",
       "      <td>0399562451</td>\n",
       "      <td>189</td>\n",
       "      <td>5</td>\n",
       "      <td>Still Me</td>\n",
       "      <td>57991562</td>\n",
       "      <td>Pauline</td>\n",
       "      <td>Jojo Moyes</td>\n",
       "      <td>4.17</td>\n",
       "      <td>96193</td>\n",
       "      <td>9442</td>\n",
       "    </tr>\n",
       "    <tr>\n",
       "      <th>5</th>\n",
       "      <td>0399562451</td>\n",
       "      <td>169</td>\n",
       "      <td>4</td>\n",
       "      <td>Still Me</td>\n",
       "      <td>5872506</td>\n",
       "      <td>Larry H</td>\n",
       "      <td>Jojo Moyes</td>\n",
       "      <td>4.17</td>\n",
       "      <td>96193</td>\n",
       "      <td>9442</td>\n",
       "    </tr>\n",
       "  </tbody>\n",
       "</table>\n",
       "</div>"
      ],
      "text/plain": [
       "         isbn  likes  rating     title   user_id  user_name      author  \\\n",
       "0  0399562451    390       3  Still Me   9684061    Melissa  Jojo Moyes   \n",
       "1  0399562451    309       3  Still Me   5032725      Debra  Jojo Moyes   \n",
       "3  0399562451    208       5  Still Me    665584  Alejandro  Jojo Moyes   \n",
       "4  0399562451    189       5  Still Me  57991562    Pauline  Jojo Moyes   \n",
       "5  0399562451    169       4  Still Me   5872506    Larry H  Jojo Moyes   \n",
       "\n",
       "   mean_rating  num_ratings  num_reviews  \n",
       "0         4.17        96193         9442  \n",
       "1         4.17        96193         9442  \n",
       "3         4.17        96193         9442  \n",
       "4         4.17        96193         9442  \n",
       "5         4.17        96193         9442  "
      ]
     },
     "execution_count": 65,
     "metadata": {},
     "output_type": "execute_result"
    }
   ],
   "source": [
    "new_df.head()"
   ]
  },
  {
   "cell_type": "code",
   "execution_count": 64,
   "metadata": {},
   "outputs": [
    {
     "data": {
      "text/plain": [
       "dtype('int32')"
      ]
     },
     "execution_count": 64,
     "metadata": {},
     "output_type": "execute_result"
    }
   ],
   "source": [
    "# cleaning num_reviews column\n",
    "new_df.num_reviews = new_df.num_reviews.str.strip(' reviews').str.replace(',','').astype(int)\n",
    "new_df.num_reviews.dtype"
   ]
  },
  {
   "cell_type": "code",
   "execution_count": 66,
   "metadata": {},
   "outputs": [
    {
     "data": {
      "text/html": [
       "<div>\n",
       "<style scoped>\n",
       "    .dataframe tbody tr th:only-of-type {\n",
       "        vertical-align: middle;\n",
       "    }\n",
       "\n",
       "    .dataframe tbody tr th {\n",
       "        vertical-align: top;\n",
       "    }\n",
       "\n",
       "    .dataframe thead th {\n",
       "        text-align: right;\n",
       "    }\n",
       "</style>\n",
       "<table border=\"1\" class=\"dataframe\">\n",
       "  <thead>\n",
       "    <tr style=\"text-align: right;\">\n",
       "      <th></th>\n",
       "      <th>user_name</th>\n",
       "      <th>user_id</th>\n",
       "      <th>title</th>\n",
       "      <th>author</th>\n",
       "      <th>isbn</th>\n",
       "      <th>rating</th>\n",
       "      <th>likes</th>\n",
       "      <th>mean_rating</th>\n",
       "      <th>num_ratings</th>\n",
       "      <th>num_reviews</th>\n",
       "    </tr>\n",
       "  </thead>\n",
       "  <tbody>\n",
       "    <tr>\n",
       "      <th>0</th>\n",
       "      <td>Melissa</td>\n",
       "      <td>9684061</td>\n",
       "      <td>Still Me</td>\n",
       "      <td>Jojo Moyes</td>\n",
       "      <td>0399562451</td>\n",
       "      <td>3</td>\n",
       "      <td>390</td>\n",
       "      <td>4.17</td>\n",
       "      <td>96,193 ratings</td>\n",
       "      <td>9,442 reviews</td>\n",
       "    </tr>\n",
       "    <tr>\n",
       "      <th>1</th>\n",
       "      <td>Debra</td>\n",
       "      <td>5032725</td>\n",
       "      <td>Still Me</td>\n",
       "      <td>Jojo Moyes</td>\n",
       "      <td>0399562451</td>\n",
       "      <td>3</td>\n",
       "      <td>309</td>\n",
       "      <td>4.17</td>\n",
       "      <td>96,193 ratings</td>\n",
       "      <td>9,442 reviews</td>\n",
       "    </tr>\n",
       "    <tr>\n",
       "      <th>2</th>\n",
       "      <td>Ihcene</td>\n",
       "      <td>31840755</td>\n",
       "      <td>Still Me</td>\n",
       "      <td>Jojo Moyes</td>\n",
       "      <td>0399562451</td>\n",
       "      <td>5</td>\n",
       "      <td>262</td>\n",
       "      <td>4.17</td>\n",
       "      <td>96,193 ratings</td>\n",
       "      <td>9,442 reviews</td>\n",
       "    </tr>\n",
       "    <tr>\n",
       "      <th>3</th>\n",
       "      <td>Alejandro</td>\n",
       "      <td>665584</td>\n",
       "      <td>Still Me</td>\n",
       "      <td>Jojo Moyes</td>\n",
       "      <td>0399562451</td>\n",
       "      <td>5</td>\n",
       "      <td>208</td>\n",
       "      <td>4.17</td>\n",
       "      <td>96,193 ratings</td>\n",
       "      <td>9,442 reviews</td>\n",
       "    </tr>\n",
       "    <tr>\n",
       "      <th>4</th>\n",
       "      <td>Pauline</td>\n",
       "      <td>57991562</td>\n",
       "      <td>Still Me</td>\n",
       "      <td>Jojo Moyes</td>\n",
       "      <td>0399562451</td>\n",
       "      <td>5</td>\n",
       "      <td>189</td>\n",
       "      <td>4.17</td>\n",
       "      <td>96,193 ratings</td>\n",
       "      <td>9,442 reviews</td>\n",
       "    </tr>\n",
       "  </tbody>\n",
       "</table>\n",
       "</div>"
      ],
      "text/plain": [
       "   user_name   user_id     title      author        isbn  rating  likes  \\\n",
       "0    Melissa   9684061  Still Me  Jojo Moyes  0399562451       3    390   \n",
       "1      Debra   5032725  Still Me  Jojo Moyes  0399562451       3    309   \n",
       "2     Ihcene  31840755  Still Me  Jojo Moyes  0399562451       5    262   \n",
       "3  Alejandro    665584  Still Me  Jojo Moyes  0399562451       5    208   \n",
       "4    Pauline  57991562  Still Me  Jojo Moyes  0399562451       5    189   \n",
       "\n",
       "   mean_rating     num_ratings    num_reviews  \n",
       "0         4.17  96,193 ratings  9,442 reviews  \n",
       "1         4.17  96,193 ratings  9,442 reviews  \n",
       "2         4.17  96,193 ratings  9,442 reviews  \n",
       "3         4.17  96,193 ratings  9,442 reviews  \n",
       "4         4.17  96,193 ratings  9,442 reviews  "
      ]
     },
     "execution_count": 66,
     "metadata": {},
     "output_type": "execute_result"
    }
   ],
   "source": [
    "df = df[['user_name', 'user_id', 'title', 'author', 'isbn', 'rating', 'likes', 'mean_rating', 'num_ratings', 'num_reviews']]\n",
    "df.head()"
   ]
  },
  {
   "cell_type": "code",
   "execution_count": 67,
   "metadata": {},
   "outputs": [
    {
     "data": {
      "text/plain": [
       "376"
      ]
     },
     "execution_count": 67,
     "metadata": {},
     "output_type": "execute_result"
    }
   ],
   "source": [
    "new_df.author.nunique()"
   ]
  },
  {
   "cell_type": "markdown",
   "metadata": {},
   "source": [
    "# Model Building"
   ]
  },
  {
   "cell_type": "code",
   "execution_count": 68,
   "metadata": {},
   "outputs": [],
   "source": [
    "# importing some more braries!\n",
    "from surprise import SVD\n",
    "from surprise import accuracy\n",
    "from surprise.model_selection import cross_validate, train_test_split\n",
    "from surprise import Reader, Dataset\n",
    "from surprise.model_selection import cross_validate\n",
    "from surprise.prediction_algorithms import KNNWithMeans, KNNBasic, KNNBaseline\n",
    "from surprise.model_selection import RandomizedSearchCV"
   ]
  },
  {
   "cell_type": "code",
   "execution_count": 70,
   "metadata": {},
   "outputs": [],
   "source": [
    "# converting data to dataset object surprise can understand\n",
    "reader = Reader(rating_scale=(1,5))\n",
    "data = Dataset.load_from_df(new_df[['user_id','title','rating']],reader)\n",
    "train, test = train_test_split(data, test_size=.2)"
   ]
  },
  {
   "cell_type": "code",
   "execution_count": 80,
   "metadata": {},
   "outputs": [
    {
     "name": "stdout",
     "output_type": "stream",
     "text": [
      "RMSE: 0.8892\n",
      "0.8891540330526717\n"
     ]
    }
   ],
   "source": [
    "# baseline model\n",
    "baseline = SVD()\n",
    "baseline.fit(train)\n",
    "preds = baseline.test(test)\n",
    "print(accuracy.rmse(preds))"
   ]
  },
  {
   "cell_type": "code",
   "execution_count": 73,
   "metadata": {},
   "outputs": [
    {
     "name": "stderr",
     "output_type": "stream",
     "text": [
      "[Parallel(n_jobs=-1)]: Using backend LokyBackend with 4 concurrent workers.\n",
      "[Parallel(n_jobs=-1)]: Done   5 tasks      | elapsed:    3.5s\n",
      "[Parallel(n_jobs=-1)]: Done  10 tasks      | elapsed:    8.7s\n",
      "[Parallel(n_jobs=-1)]: Done  17 tasks      | elapsed:   11.3s\n",
      "[Parallel(n_jobs=-1)]: Done  24 tasks      | elapsed:   18.3s\n",
      "[Parallel(n_jobs=-1)]: Done  33 tasks      | elapsed:   23.2s\n",
      "[Parallel(n_jobs=-1)]: Done  42 tasks      | elapsed:   29.4s\n",
      "[Parallel(n_jobs=-1)]: Done  50 out of  50 | elapsed:   33.9s finished\n"
     ]
    }
   ],
   "source": [
    "# runnign randomized search on SVD\n",
    "params = {'n_factors': [1,5,10,25,50,75,100], 'reg_all': [.005,.01,.02,.05,.1,.25,.5], 'lr_all':[.005,.01,.02,.05,.1,.25,.5],\n",
    "         'n_epochs': [10,20,50]}\n",
    "model = RandomizedSearchCV(SVD,param_distributions=params,n_jobs=-1,joblib_verbose=10, cv=5)\n",
    "model.fit(data)"
   ]
  },
  {
   "cell_type": "code",
   "execution_count": 74,
   "metadata": {},
   "outputs": [
    {
     "name": "stdout",
     "output_type": "stream",
     "text": [
      "{'rmse': 0.869675850733404, 'mae': 0.6789961605640339}\n",
      "{'rmse': {'n_factors': 5, 'reg_all': 0.1, 'lr_all': 0.02, 'n_epochs': 10}, 'mae': {'n_factors': 5, 'reg_all': 0.1, 'lr_all': 0.02, 'n_epochs': 10}}\n"
     ]
    }
   ],
   "source": [
    "# best params and score\n",
    "print(model.best_score)\n",
    "print(model.best_params)"
   ]
  },
  {
   "cell_type": "code",
   "execution_count": 102,
   "metadata": {},
   "outputs": [
    {
     "name": "stdout",
     "output_type": "stream",
     "text": [
      "RMSE: 0.8777\n"
     ]
    },
    {
     "data": {
      "text/plain": [
       "0.8776572813420881"
      ]
     },
     "execution_count": 102,
     "metadata": {},
     "output_type": "execute_result"
    }
   ],
   "source": [
    "# now checking best params specifically on test set\n",
    "better = SVD(n_factors=5,reg_all=.1,lr_all=.02,n_epochs=10)\n",
    "better.fit(train)\n",
    "better_preds = better.test(test)\n",
    "accuracy.rmse(better_preds)"
   ]
  },
  {
   "cell_type": "code",
   "execution_count": 76,
   "metadata": {},
   "outputs": [],
   "source": [
    "# even more braries!\n",
    "import seaborn as sns\n",
    "import matplotlib.pyplot as plt\n",
    "%matplotlib inline"
   ]
  },
  {
   "cell_type": "code",
   "execution_count": 105,
   "metadata": {},
   "outputs": [
    {
     "name": "stdout",
     "output_type": "stream",
     "text": [
      "RMSE: 0.8773\n",
      "RMSE: 0.8772\n",
      "RMSE: 0.8775\n",
      "RMSE: 0.8773\n",
      "RMSE: 0.8771\n",
      "RMSE: 0.8774\n",
      "RMSE: 0.8770\n",
      "RMSE: 0.8768\n",
      "RMSE: 0.8782\n",
      "RMSE: 0.8770\n",
      "RMSE: 0.8775\n",
      "RMSE: 0.8780\n",
      "RMSE: 0.8773\n",
      "RMSE: 0.8770\n",
      "RMSE: 0.8781\n",
      "RMSE: 0.8772\n",
      "RMSE: 0.8764\n",
      "RMSE: 0.8779\n",
      "RMSE: 0.8772\n",
      "RMSE: 0.8780\n"
     ]
    },
    {
     "data": {
      "image/png": "[encoded data removed]",
      "text/plain": [
       "<Figure size 432x288 with 1 Axes>"
      ]
     },
     "metadata": {
      "needs_background": "light"
     },
     "output_type": "display_data"
    }
   ],
   "source": [
    "# diving deeper into the hyperparameters. i went up and down the next several cells and played around with the numbers\n",
    "n_factors = range(1,21)\n",
    "scores = []\n",
    "for x in n_factors:\n",
    "    model = SVD(n_factors=x,reg_all=.1,lr_all=.02,n_epochs=10)\n",
    "    model.fit(train)\n",
    "    preds = model.test(test)\n",
    "    acc = accuracy.rmse(preds)\n",
    "    scores.append(acc)\n",
    "sns.lineplot(n_factors, scores);"
   ]
  },
  {
   "cell_type": "code",
   "execution_count": 109,
   "metadata": {},
   "outputs": [
    {
     "name": "stdout",
     "output_type": "stream",
     "text": [
      "RMSE: 0.8795\n",
      "RMSE: 0.8782\n",
      "RMSE: 0.8769\n",
      "RMSE: 0.8773\n",
      "RMSE: 0.8771\n",
      "RMSE: 0.8775\n"
     ]
    },
    {
     "data": {
      "image/png": "[encoded data removed]",
      "text/plain": [
       "<Figure size 432x288 with 1 Axes>"
      ]
     },
     "metadata": {
      "needs_background": "light"
     },
     "output_type": "display_data"
    }
   ],
   "source": [
    "reg_all = [.075,.1,.125,.15,.175,.2]\n",
    "scores = []\n",
    "for x in reg_all:\n",
    "    model = SVD(n_factors=17,reg_all=x,lr_all=.02,n_epochs=10)\n",
    "    model.fit(train)\n",
    "    preds = model.test(test)\n",
    "    acc = accuracy.rmse(preds)\n",
    "    scores.append(acc)\n",
    "sns.lineplot(reg_all, scores);"
   ]
  },
  {
   "cell_type": "code",
   "execution_count": 112,
   "metadata": {},
   "outputs": [
    {
     "name": "stdout",
     "output_type": "stream",
     "text": [
      "RMSE: 0.8799\n",
      "RMSE: 0.8793\n",
      "RMSE: 0.8784\n",
      "RMSE: 0.8784\n",
      "RMSE: 0.8773\n",
      "RMSE: 0.8777\n",
      "RMSE: 0.8772\n",
      "RMSE: 0.8773\n",
      "RMSE: 0.8771\n",
      "RMSE: 0.8775\n",
      "RMSE: 0.8772\n",
      "RMSE: 0.8789\n",
      "RMSE: 0.8800\n",
      "RMSE: 0.8852\n",
      "RMSE: 0.8878\n"
     ]
    },
    {
     "data": {
      "image/png": "[encoded data removed]",
      "text/plain": [
       "<Figure size 432x288 with 1 Axes>"
      ]
     },
     "metadata": {
      "needs_background": "light"
     },
     "output_type": "display_data"
    }
   ],
   "source": [
    "lr_all = [.01,.011,.012,.013,.014,.015,.016,.017,.018,.019,.02,.025,.03,.04,.05]\n",
    "scores = []\n",
    "for x in lr_all:\n",
    "    model = SVD(n_factors=17,reg_all=.125,lr_all=x,n_epochs=10)\n",
    "    model.fit(train)\n",
    "    preds = model.test(test)\n",
    "    acc = accuracy.rmse(preds)\n",
    "    scores.append(acc)\n",
    "sns.lineplot(lr_all, scores);"
   ]
  },
  {
   "cell_type": "code",
   "execution_count": 114,
   "metadata": {},
   "outputs": [
    {
     "name": "stdout",
     "output_type": "stream",
     "text": [
      "RMSE: 0.8765\n",
      "RMSE: 0.8767\n",
      "RMSE: 0.8767\n",
      "RMSE: 0.8765\n",
      "RMSE: 0.8764\n",
      "RMSE: 0.8766\n",
      "RMSE: 0.8768\n",
      "RMSE: 0.8762\n",
      "RMSE: 0.8771\n",
      "RMSE: 0.8775\n",
      "RMSE: 0.8763\n",
      "RMSE: 0.8782\n",
      "RMSE: 0.8784\n",
      "RMSE: 0.8772\n",
      "RMSE: 0.8770\n",
      "RMSE: 0.8786\n",
      "RMSE: 0.8786\n",
      "RMSE: 0.8805\n",
      "RMSE: 0.8810\n",
      "RMSE: 0.8805\n"
     ]
    },
    {
     "data": {
      "text/plain": [
       "<matplotlib.axes._subplots.AxesSubplot at 0x1c4e1c93f28>"
      ]
     },
     "execution_count": 114,
     "metadata": {},
     "output_type": "execute_result"
    },
    {
     "data": {
      "image/png": "[encoded data removed]",
      "text/plain": [
       "<Figure size 432x288 with 1 Axes>"
      ]
     },
     "metadata": {
      "needs_background": "light"
     },
     "output_type": "display_data"
    }
   ],
   "source": [
    "n_epochs = range(10,30)\n",
    "scores = []\n",
    "for x in n_epochs:\n",
    "    model = SVD(n_epochs=x, lr_all=.015, reg_all=.125, n_factors=17)\n",
    "    model.fit(train)\n",
    "    preds = model.test(test)\n",
    "    acc = accuracy.rmse(preds)\n",
    "    scores.append(acc)\n",
    "sns.lineplot(n_epochs, scores)"
   ]
  },
  {
   "cell_type": "code",
   "execution_count": 115,
   "metadata": {
    "scrolled": true
   },
   "outputs": [
    {
     "name": "stdout",
     "output_type": "stream",
     "text": [
      "RMSE: 0.8769\n",
      "MAE:  0.6823\n"
     ]
    },
    {
     "data": {
      "text/plain": [
       "0.6822510201594242"
      ]
     },
     "execution_count": 115,
     "metadata": {},
     "output_type": "execute_result"
    }
   ],
   "source": [
    "# seemingly best SVD model\n",
    "model = SVD(n_epochs=17, lr_all=.015, reg_all=.125, n_factors=17)\n",
    "model.fit(train)\n",
    "preds = model.test(test)\n",
    "accuracy.rmse(preds)\n",
    "accuracy.mae(preds)"
   ]
  },
  {
   "cell_type": "code",
   "execution_count": 129,
   "metadata": {},
   "outputs": [],
   "source": [
    "# yes more brarires this time looking at various KNN models. Not running randomized search because it causes a memory error on my local machine\n",
    "from surprise.prediction_algorithms import KNNWithMeans, KNNBasic, KNNBaseline, KNNWithZScore"
   ]
  },
  {
   "cell_type": "code",
   "execution_count": 117,
   "metadata": {},
   "outputs": [],
   "source": [
    "# creating parameter ranges\n",
    "k = range(1,18)\n",
    "name = ['cosine','msd', 'pearson', 'pearson_baseline']\n",
    "user_based = [True, False]\n",
    "sim_options = {'name': name, 'user_based':user_based}\n",
    "params = {'k':k, 'sim_options':sim_options}"
   ]
  },
  {
   "cell_type": "code",
   "execution_count": 121,
   "metadata": {},
   "outputs": [
    {
     "name": "stdout",
     "output_type": "stream",
     "text": [
      "Computing the msd similarity matrix...\n",
      "Done computing similarity matrix.\n",
      "RMSE: 1.2685\n",
      "Computing the msd similarity matrix...\n",
      "Done computing similarity matrix.\n",
      "RMSE: 1.1048\n",
      "Computing the msd similarity matrix...\n",
      "Done computing similarity matrix.\n",
      "RMSE: 1.0349\n",
      "Computing the msd similarity matrix...\n",
      "Done computing similarity matrix.\n",
      "RMSE: 1.0055\n",
      "Computing the msd similarity matrix...\n",
      "Done computing similarity matrix.\n",
      "RMSE: 0.9888\n",
      "Computing the msd similarity matrix...\n",
      "Done computing similarity matrix.\n",
      "RMSE: 0.9757\n",
      "Computing the msd similarity matrix...\n",
      "Done computing similarity matrix.\n",
      "RMSE: 0.9680\n",
      "Computing the msd similarity matrix...\n",
      "Done computing similarity matrix.\n",
      "RMSE: 0.9614\n",
      "Computing the msd similarity matrix...\n",
      "Done computing similarity matrix.\n",
      "RMSE: 0.9583\n",
      "Computing the msd similarity matrix...\n",
      "Done computing similarity matrix.\n",
      "RMSE: 0.9532\n",
      "Computing the msd similarity matrix...\n",
      "Done computing similarity matrix.\n",
      "RMSE: 0.9508\n",
      "Computing the msd similarity matrix...\n",
      "Done computing similarity matrix.\n",
      "RMSE: 0.9487\n",
      "Computing the msd similarity matrix...\n",
      "Done computing similarity matrix.\n",
      "RMSE: 0.9463\n",
      "Computing the msd similarity matrix...\n",
      "Done computing similarity matrix.\n",
      "RMSE: 0.9451\n",
      "Computing the msd similarity matrix...\n",
      "Done computing similarity matrix.\n",
      "RMSE: 0.9436\n",
      "Computing the msd similarity matrix...\n",
      "Done computing similarity matrix.\n",
      "RMSE: 0.9428\n",
      "Computing the msd similarity matrix...\n",
      "Done computing similarity matrix.\n",
      "RMSE: 0.9420\n"
     ]
    },
    {
     "data": {
      "text/plain": [
       "<matplotlib.axes._subplots.AxesSubplot at 0x1c48002eeb8>"
      ]
     },
     "execution_count": 121,
     "metadata": {},
     "output_type": "execute_result"
    },
    {
     "data": {
      "image/png": "[encoded data removed]",
      "text/plain": [
       "<Figure size 432x288 with 1 Axes>"
      ]
     },
     "metadata": {
      "needs_background": "light"
     },
     "output_type": "display_data"
    }
   ],
   "source": [
    "# seemingly worse than SVD, but will test out several models to see if it can improve\n",
    "scores = []\n",
    "for x in k:\n",
    "    model = KNNBasic(k=x)\n",
    "    model.fit(train)\n",
    "    preds = model.test(test)\n",
    "    acc = accuracy.rmse(preds)\n",
    "    scores.append(acc)\n",
    "sns.lineplot(k, scores)"
   ]
  },
  {
   "cell_type": "code",
   "execution_count": 124,
   "metadata": {},
   "outputs": [
    {
     "name": "stdout",
     "output_type": "stream",
     "text": [
      "Computing the cosine similarity matrix...\n",
      "Done computing similarity matrix.\n",
      "RMSE: 0.9795\n",
      "Computing the msd similarity matrix...\n",
      "Done computing similarity matrix.\n",
      "RMSE: 0.9532\n",
      "Computing the pearson similarity matrix...\n",
      "Done computing similarity matrix.\n",
      "RMSE: 1.0267\n",
      "Estimating biases using als...\n",
      "Computing the pearson_baseline similarity matrix...\n",
      "Done computing similarity matrix.\n",
      "RMSE: 1.0028\n"
     ]
    },
    {
     "data": {
      "text/plain": [
       "<matplotlib.axes._subplots.AxesSubplot at 0x1c4e21806d8>"
      ]
     },
     "execution_count": 124,
     "metadata": {},
     "output_type": "execute_result"
    },
    {
     "data": {
      "image/png": "[encoded data removed]",
      "text/plain": [
       "<Figure size 432x288 with 1 Axes>"
      ]
     },
     "metadata": {
      "needs_background": "light"
     },
     "output_type": "display_data"
    }
   ],
   "source": [
    "scores = []\n",
    "for x in name:\n",
    "    model = KNNBasic(sim_options={'name':x}, k=10)\n",
    "    model.fit(train)\n",
    "    preds = model.test(test)\n",
    "    acc = accuracy.rmse(preds)\n",
    "    scores.append(acc)\n",
    "sns.lineplot(name, scores)"
   ]
  },
  {
   "cell_type": "code",
   "execution_count": 123,
   "metadata": {},
   "outputs": [
    {
     "name": "stdout",
     "output_type": "stream",
     "text": [
      "Computing the msd similarity matrix...\n",
      "Done computing similarity matrix.\n",
      "RMSE: 0.9532\n",
      "Computing the msd similarity matrix...\n",
      "Done computing similarity matrix.\n",
      "RMSE: 0.9562\n"
     ]
    },
    {
     "data": {
      "text/plain": [
       "<matplotlib.axes._subplots.AxesSubplot at 0x1c480040908>"
      ]
     },
     "execution_count": 123,
     "metadata": {},
     "output_type": "execute_result"
    },
    {
     "data": {
      "image/png": "[encoded data removed]",
      "text/plain": [
       "<Figure size 432x288 with 1 Axes>"
      ]
     },
     "metadata": {
      "needs_background": "light"
     },
     "output_type": "display_data"
    }
   ],
   "source": [
    "scores = []\n",
    "for x in user_based:\n",
    "    model = KNNBasic(sim_options={'user_based':x, 'name': 'msd'}, k=10)\n",
    "    model.fit(train)\n",
    "    preds = model.test(test)\n",
    "    acc = accuracy.rmse(preds)\n",
    "    scores.append(acc)\n",
    "sns.lineplot(user_based, scores)"
   ]
  },
  {
   "cell_type": "code",
   "execution_count": 122,
   "metadata": {},
   "outputs": [
    {
     "name": "stdout",
     "output_type": "stream",
     "text": [
      "Computing the msd similarity matrix...\n",
      "Done computing similarity matrix.\n",
      "RMSE: 1.1389\n",
      "Computing the msd similarity matrix...\n",
      "Done computing similarity matrix.\n",
      "RMSE: 1.0244\n",
      "Computing the msd similarity matrix...\n",
      "Done computing similarity matrix.\n",
      "RMSE: 0.9781\n",
      "Computing the msd similarity matrix...\n",
      "Done computing similarity matrix.\n",
      "RMSE: 0.9601\n",
      "Computing the msd similarity matrix...\n",
      "Done computing similarity matrix.\n",
      "RMSE: 0.9497\n",
      "Computing the msd similarity matrix...\n",
      "Done computing similarity matrix.\n",
      "RMSE: 0.9408\n",
      "Computing the msd similarity matrix...\n",
      "Done computing similarity matrix.\n",
      "RMSE: 0.9350\n",
      "Computing the msd similarity matrix...\n",
      "Done computing similarity matrix.\n",
      "RMSE: 0.9313\n",
      "Computing the msd similarity matrix...\n",
      "Done computing similarity matrix.\n",
      "RMSE: 0.9293\n",
      "Computing the msd similarity matrix...\n",
      "Done computing similarity matrix.\n",
      "RMSE: 0.9254\n",
      "Computing the msd similarity matrix...\n",
      "Done computing similarity matrix.\n",
      "RMSE: 0.9242\n",
      "Computing the msd similarity matrix...\n",
      "Done computing similarity matrix.\n",
      "RMSE: 0.9230\n",
      "Computing the msd similarity matrix...\n",
      "Done computing similarity matrix.\n",
      "RMSE: 0.9212\n",
      "Computing the msd similarity matrix...\n",
      "Done computing similarity matrix.\n",
      "RMSE: 0.9201\n",
      "Computing the msd similarity matrix...\n",
      "Done computing similarity matrix.\n",
      "RMSE: 0.9190\n",
      "Computing the msd similarity matrix...\n",
      "Done computing similarity matrix.\n",
      "RMSE: 0.9182\n",
      "Computing the msd similarity matrix...\n",
      "Done computing similarity matrix.\n",
      "RMSE: 0.9178\n"
     ]
    },
    {
     "data": {
      "text/plain": [
       "<matplotlib.axes._subplots.AxesSubplot at 0x1c480037e48>"
      ]
     },
     "execution_count": 122,
     "metadata": {},
     "output_type": "execute_result"
    },
    {
     "data": {
      "image/png": "[encoded data removed]",
      "text/plain": [
       "<Figure size 432x288 with 1 Axes>"
      ]
     },
     "metadata": {
      "needs_background": "light"
     },
     "output_type": "display_data"
    }
   ],
   "source": [
    "scores = []\n",
    "for x in k:\n",
    "    model = KNNWithMeans(k=x)\n",
    "    model.fit(train)\n",
    "    preds = model.test(test)\n",
    "    acc = accuracy.rmse(preds)\n",
    "    scores.append(acc)\n",
    "sns.lineplot(k, scores)"
   ]
  },
  {
   "cell_type": "code",
   "execution_count": 125,
   "metadata": {},
   "outputs": [
    {
     "name": "stdout",
     "output_type": "stream",
     "text": [
      "Computing the cosine similarity matrix...\n",
      "Done computing similarity matrix.\n",
      "RMSE: 0.9324\n",
      "Computing the msd similarity matrix...\n",
      "Done computing similarity matrix.\n",
      "RMSE: 0.9254\n",
      "Computing the pearson similarity matrix...\n",
      "Done computing similarity matrix.\n",
      "RMSE: 0.9730\n",
      "Estimating biases using als...\n",
      "Computing the pearson_baseline similarity matrix...\n",
      "Done computing similarity matrix.\n",
      "RMSE: 0.9559\n"
     ]
    },
    {
     "data": {
      "text/plain": [
       "<matplotlib.axes._subplots.AxesSubplot at 0x1c4801846d8>"
      ]
     },
     "execution_count": 125,
     "metadata": {},
     "output_type": "execute_result"
    },
    {
     "data": {
      "image/png": "[encoded data removed]",
      "text/plain": [
       "<Figure size 432x288 with 1 Axes>"
      ]
     },
     "metadata": {
      "needs_background": "light"
     },
     "output_type": "display_data"
    }
   ],
   "source": [
    "scores = []\n",
    "for x in name:\n",
    "    model = KNNWithMeans(sim_options={'name':x}, k=10)\n",
    "    model.fit(train)\n",
    "    preds = model.test(test)\n",
    "    acc = accuracy.rmse(preds)\n",
    "    scores.append(acc)\n",
    "sns.lineplot(name, scores)"
   ]
  },
  {
   "cell_type": "code",
   "execution_count": 127,
   "metadata": {},
   "outputs": [
    {
     "name": "stdout",
     "output_type": "stream",
     "text": [
      "Computing the msd similarity matrix...\n",
      "Done computing similarity matrix.\n",
      "RMSE: 0.9254\n",
      "Computing the msd similarity matrix...\n",
      "Done computing similarity matrix.\n",
      "RMSE: 0.9123\n"
     ]
    },
    {
     "data": {
      "text/plain": [
       "<matplotlib.axes._subplots.AxesSubplot at 0x1c480195748>"
      ]
     },
     "execution_count": 127,
     "metadata": {},
     "output_type": "execute_result"
    },
    {
     "data": {
      "image/png": "[encoded data removed]",
      "text/plain": [
       "<Figure size 432x288 with 1 Axes>"
      ]
     },
     "metadata": {
      "needs_background": "light"
     },
     "output_type": "display_data"
    }
   ],
   "source": [
    "scores = []\n",
    "for x in user_based:\n",
    "    model = KNNWithMeans(sim_options={'user_based':x, 'name': 'msd'}, k=10)\n",
    "    model.fit(train)\n",
    "    preds = model.test(test)\n",
    "    acc = accuracy.rmse(preds)\n",
    "    scores.append(acc)\n",
    "sns.lineplot(user_based, scores)"
   ]
  },
  {
   "cell_type": "code",
   "execution_count": 130,
   "metadata": {},
   "outputs": [
    {
     "name": "stdout",
     "output_type": "stream",
     "text": [
      "Computing the msd similarity matrix...\n",
      "Done computing similarity matrix.\n",
      "RMSE: 1.1461\n",
      "Computing the msd similarity matrix...\n",
      "Done computing similarity matrix.\n",
      "RMSE: 1.0381\n",
      "Computing the msd similarity matrix...\n",
      "Done computing similarity matrix.\n",
      "RMSE: 0.9877\n",
      "Computing the msd similarity matrix...\n",
      "Done computing similarity matrix.\n",
      "RMSE: 0.9682\n",
      "Computing the msd similarity matrix...\n",
      "Done computing similarity matrix.\n",
      "RMSE: 0.9560\n",
      "Computing the msd similarity matrix...\n",
      "Done computing similarity matrix.\n",
      "RMSE: 0.9471\n",
      "Computing the msd similarity matrix...\n",
      "Done computing similarity matrix.\n",
      "RMSE: 0.9409\n",
      "Computing the msd similarity matrix...\n",
      "Done computing similarity matrix.\n",
      "RMSE: 0.9366\n",
      "Computing the msd similarity matrix...\n",
      "Done computing similarity matrix.\n",
      "RMSE: 0.9344\n",
      "Computing the msd similarity matrix...\n",
      "Done computing similarity matrix.\n",
      "RMSE: 0.9300\n",
      "Computing the msd similarity matrix...\n",
      "Done computing similarity matrix.\n",
      "RMSE: 0.9284\n",
      "Computing the msd similarity matrix...\n",
      "Done computing similarity matrix.\n",
      "RMSE: 0.9272\n",
      "Computing the msd similarity matrix...\n",
      "Done computing similarity matrix.\n",
      "RMSE: 0.9255\n",
      "Computing the msd similarity matrix...\n",
      "Done computing similarity matrix.\n",
      "RMSE: 0.9244\n",
      "Computing the msd similarity matrix...\n",
      "Done computing similarity matrix.\n",
      "RMSE: 0.9231\n",
      "Computing the msd similarity matrix...\n",
      "Done computing similarity matrix.\n",
      "RMSE: 0.9224\n",
      "Computing the msd similarity matrix...\n",
      "Done computing similarity matrix.\n",
      "RMSE: 0.9217\n"
     ]
    },
    {
     "data": {
      "text/plain": [
       "<matplotlib.axes._subplots.AxesSubplot at 0x1c4801ad0f0>"
      ]
     },
     "execution_count": 130,
     "metadata": {},
     "output_type": "execute_result"
    },
    {
     "data": {
      "image/png": "[encoded data removed]",
      "text/plain": [
       "<Figure size 432x288 with 1 Axes>"
      ]
     },
     "metadata": {
      "needs_background": "light"
     },
     "output_type": "display_data"
    }
   ],
   "source": [
    "scores = []\n",
    "for x in k:\n",
    "    model = KNNWithZScore(k=x)\n",
    "    model.fit(train)\n",
    "    preds = model.test(test)\n",
    "    acc = accuracy.rmse(preds)\n",
    "    scores.append(acc)\n",
    "sns.lineplot(k, scores)"
   ]
  },
  {
   "cell_type": "code",
   "execution_count": 135,
   "metadata": {},
   "outputs": [
    {
     "name": "stdout",
     "output_type": "stream",
     "text": [
      "RMSE: 0.8769\n",
      "MAE:  0.6825\n"
     ]
    },
    {
     "data": {
      "text/plain": [
       "0.6825260376880067"
      ]
     },
     "execution_count": 135,
     "metadata": {},
     "output_type": "execute_result"
    }
   ],
   "source": [
    "# one last methot to import to export the final model!\n",
    "from surprise.dump import dump\n",
    "model = SVD(n_epochs=17, lr_all=.015, reg_all=.125, n_factors=17)\n",
    "model.fit(train)\n",
    "preds = model.test(test)\n",
    "accuracy.rmse(preds)\n",
    "accuracy.mae(preds)"
   ]
  },
  {
   "cell_type": "code",
   "execution_count": 136,
   "metadata": {},
   "outputs": [
    {
     "name": "stdout",
     "output_type": "stream",
     "text": [
      "The dump has been saved as file book_recommender.py\n"
     ]
    }
   ],
   "source": [
    "# exporting the model\n",
    "dump('book_recommender.py', predictions=preds, algo=model, verbose=1)"
   ]
  }
 ],
 "metadata": {
  "kernelspec": {
   "display_name": "Python 3",
   "language": "python",
   "name": "python3"
  },
  "language_info": {
   "codemirror_mode": {
    "name": "ipython",
    "version": 3
   },
   "file_extension": ".py",
   "mimetype": "text/x-python",
   "name": "python",
   "nbconvert_exporter": "python",
   "pygments_lexer": "ipython3",
   "version": "3.7.3"
  }
 },
 "nbformat": 4,
 "nbformat_minor": 2
}
