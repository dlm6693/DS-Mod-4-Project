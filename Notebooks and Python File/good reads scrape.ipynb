{
 "cells": [
  {
   "cell_type": "code",
   "execution_count": 1,
   "metadata": {},
   "outputs": [],
   "source": [
    "from selenium import webdriver\n",
    "from selenium.webdriver.chrome.options import Options\n",
    "import pandas as pd\n",
    "import numpy as np\n",
    "from tqdm import tqdm_notebook as tq\n",
    "import datetime"
   ]
  },
  {
   "cell_type": "code",
   "execution_count": 35,
   "metadata": {},
   "outputs": [
    {
     "data": {
      "text/plain": [
       "[<selenium.webdriver.remote.webelement.WebElement (session=\"88f9278d0b502f29aeb4b795c987e0d7\", element=\"0.9578673040625068-1\")>,\n",
       " <selenium.webdriver.remote.webelement.WebElement (session=\"88f9278d0b502f29aeb4b795c987e0d7\", element=\"0.9578673040625068-2\")>,\n",
       " <selenium.webdriver.remote.webelement.WebElement (session=\"88f9278d0b502f29aeb4b795c987e0d7\", element=\"0.9578673040625068-3\")>,\n",
       " <selenium.webdriver.remote.webelement.WebElement (session=\"88f9278d0b502f29aeb4b795c987e0d7\", element=\"0.9578673040625068-4\")>,\n",
       " <selenium.webdriver.remote.webelement.WebElement (session=\"88f9278d0b502f29aeb4b795c987e0d7\", element=\"0.9578673040625068-5\")>,\n",
       " <selenium.webdriver.remote.webelement.WebElement (session=\"88f9278d0b502f29aeb4b795c987e0d7\", element=\"0.9578673040625068-6\")>,\n",
       " <selenium.webdriver.remote.webelement.WebElement (session=\"88f9278d0b502f29aeb4b795c987e0d7\", element=\"0.9578673040625068-7\")>,\n",
       " <selenium.webdriver.remote.webelement.WebElement (session=\"88f9278d0b502f29aeb4b795c987e0d7\", element=\"0.9578673040625068-8\")>,\n",
       " <selenium.webdriver.remote.webelement.WebElement (session=\"88f9278d0b502f29aeb4b795c987e0d7\", element=\"0.9578673040625068-9\")>,\n",
       " <selenium.webdriver.remote.webelement.WebElement (session=\"88f9278d0b502f29aeb4b795c987e0d7\", element=\"0.9578673040625068-10\")>,\n",
       " <selenium.webdriver.remote.webelement.WebElement (session=\"88f9278d0b502f29aeb4b795c987e0d7\", element=\"0.9578673040625068-11\")>,\n",
       " <selenium.webdriver.remote.webelement.WebElement (session=\"88f9278d0b502f29aeb4b795c987e0d7\", element=\"0.9578673040625068-12\")>,\n",
       " <selenium.webdriver.remote.webelement.WebElement (session=\"88f9278d0b502f29aeb4b795c987e0d7\", element=\"0.9578673040625068-13\")>,\n",
       " <selenium.webdriver.remote.webelement.WebElement (session=\"88f9278d0b502f29aeb4b795c987e0d7\", element=\"0.9578673040625068-14\")>,\n",
       " <selenium.webdriver.remote.webelement.WebElement (session=\"88f9278d0b502f29aeb4b795c987e0d7\", element=\"0.9578673040625068-15\")>,\n",
       " <selenium.webdriver.remote.webelement.WebElement (session=\"88f9278d0b502f29aeb4b795c987e0d7\", element=\"0.9578673040625068-16\")>,\n",
       " <selenium.webdriver.remote.webelement.WebElement (session=\"88f9278d0b502f29aeb4b795c987e0d7\", element=\"0.9578673040625068-17\")>,\n",
       " <selenium.webdriver.remote.webelement.WebElement (session=\"88f9278d0b502f29aeb4b795c987e0d7\", element=\"0.9578673040625068-18\")>,\n",
       " <selenium.webdriver.remote.webelement.WebElement (session=\"88f9278d0b502f29aeb4b795c987e0d7\", element=\"0.9578673040625068-19\")>,\n",
       " <selenium.webdriver.remote.webelement.WebElement (session=\"88f9278d0b502f29aeb4b795c987e0d7\", element=\"0.9578673040625068-20\")>]"
      ]
     },
     "execution_count": 35,
     "metadata": {},
     "output_type": "execute_result"
    }
   ],
   "source": [
    "options = Options()\n",
    "options.headless = True\n",
    "url = 'https://www.goodreads.com/choiceawards/best-fantasy-books-2018'\n",
    "browser = webdriver.Chrome(options=options)\n",
    "browser.get(url)\n"
   ]
  },
  {
   "cell_type": "code",
   "execution_count": 40,
   "metadata": {},
   "outputs": [
    {
     "data": {
      "text/plain": [
       "''"
      ]
     },
     "execution_count": 40,
     "metadata": {},
     "output_type": "execute_result"
    }
   ],
   "source": [
    "browser.find_element_by_class_name('pollAnswer__bookLink').text"
   ]
  },
  {
   "cell_type": "code",
   "execution_count": 44,
   "metadata": {},
   "outputs": [
    {
     "data": {
      "text/plain": [
       "['https://www.goodreads.com/book/show/35959740-circe?from_choice=true',\n",
       " 'https://www.goodreads.com/book/show/36521316-the-shape-of-water?from_choice=true',\n",
       " 'https://www.goodreads.com/book/show/37168303-spinning-silver?from_choice=true',\n",
       " 'https://www.goodreads.com/book/show/34311452-year-one?from_choice=true',\n",
       " 'https://www.goodreads.com/book/show/35126152-iron-and-magic?from_choice=true',\n",
       " 'https://www.goodreads.com/book/show/35887181-the-poppy-war?from_choice=true',\n",
       " 'https://www.goodreads.com/book/show/27366528-beneath-the-sugar-sky?from_choice=true',\n",
       " 'https://www.goodreads.com/book/show/35457273-high-voltage?from_choice=true',\n",
       " 'https://www.goodreads.com/book/show/35839437-burn-bright?from_choice=true',\n",
       " 'https://www.goodreads.com/book/show/35710709-grey-sister?from_choice=true',\n",
       " 'https://www.goodreads.com/book/show/36204070-the-book-of-m?from_choice=true',\n",
       " 'https://www.goodreads.com/book/show/34050917-the-girl-in-the-tower?from_choice=true',\n",
       " 'https://www.goodreads.com/book/show/35342928-age-of-war?from_choice=true',\n",
       " 'https://www.goodreads.com/book/show/40629159-the-land?from_choice=true',\n",
       " 'https://www.goodreads.com/book/show/38395454-time-s-convert?from_choice=true',\n",
       " 'https://www.goodreads.com/book/show/17333180-magic-triumphs?from_choice=true',\n",
       " 'https://www.goodreads.com/book/show/35271523-senlin-ascends?from_choice=true',\n",
       " 'https://www.goodreads.com/book/show/28811018-wrath-of-empire?from_choice=true',\n",
       " 'https://www.goodreads.com/book/show/37007781-foundryside?from_choice=true',\n",
       " 'https://www.goodreads.com/book/show/35052265-bloody-rose?from_choice=true']"
      ]
     },
     "execution_count": 44,
     "metadata": {},
     "output_type": "execute_result"
    }
   ],
   "source": [
    "links = []\n",
    "stuff = browser.find_elements_by_class_name('pollAnswer__bookLink')\n",
    "for x in stuff:\n",
    "    yada = x.get_attribute('href')\n",
    "    links.append(yada)\n",
    "links"
   ]
  },
  {
   "cell_type": "code",
   "execution_count": 45,
   "metadata": {},
   "outputs": [
    {
     "data": {
      "text/plain": [
       "'Circe'"
      ]
     },
     "execution_count": 45,
     "metadata": {},
     "output_type": "execute_result"
    }
   ],
   "source": [
    "first = links[0]\n",
    "browser = webdriver.Chrome(options=options)\n",
    "browser.get(first)\n",
    "browser.find_element_by_xpath(\"//h1[@id='bookTitle']\").text"
   ]
  },
  {
   "cell_type": "code",
   "execution_count": 28,
   "metadata": {},
   "outputs": [
    {
     "data": {
      "text/plain": [
       "'Madeline Miller'"
      ]
     },
     "execution_count": 28,
     "metadata": {},
     "output_type": "execute_result"
    }
   ],
   "source": [
    "browser.find_element_by_xpath(\"//a[@class='authorName']\").text"
   ]
  },
  {
   "cell_type": "code",
   "execution_count": 31,
   "metadata": {},
   "outputs": [
    {
     "data": {
      "text/plain": [
       "'4.31'"
      ]
     },
     "execution_count": 31,
     "metadata": {},
     "output_type": "execute_result"
    }
   ],
   "source": [
    "browser.find_element_by_xpath(\"//span[@itemprop='ratingValue']\").text"
   ]
  },
  {
   "cell_type": "code",
   "execution_count": 46,
   "metadata": {},
   "outputs": [
    {
     "data": {
      "text/plain": [
       "'125,091 ratings'"
      ]
     },
     "execution_count": 46,
     "metadata": {},
     "output_type": "execute_result"
    }
   ],
   "source": [
    "browser.find_element_by_xpath(\"//div[@id='bookMeta']//a[2]\").text"
   ]
  },
  {
   "cell_type": "code",
   "execution_count": 47,
   "metadata": {},
   "outputs": [
    {
     "data": {
      "text/plain": [
       "'17,173 reviews'"
      ]
     },
     "execution_count": 47,
     "metadata": {},
     "output_type": "execute_result"
    }
   ],
   "source": [
    "browser.find_element_by_xpath(\"//div[@id='bookMeta']//a[3]\").text"
   ]
  },
  {
   "cell_type": "code",
   "execution_count": 51,
   "metadata": {},
   "outputs": [
    {
     "data": {
      "application/vnd.jupyter.widget-view+json": {
       "model_id": "49f09d077d79479e8025278ec6acd6a1",
       "version_major": 2,
       "version_minor": 0
      },
      "text/plain": [
       "HBox(children=(IntProgress(value=0, max=20), HTML(value='')))"
      ]
     },
     "metadata": {},
     "output_type": "display_data"
    },
    {
     "name": "stdout",
     "output_type": "stream",
     "text": [
      "\n"
     ]
    },
    {
     "data": {
      "text/html": [
       "<div>\n",
       "<style scoped>\n",
       "    .dataframe tbody tr th:only-of-type {\n",
       "        vertical-align: middle;\n",
       "    }\n",
       "\n",
       "    .dataframe tbody tr th {\n",
       "        vertical-align: top;\n",
       "    }\n",
       "\n",
       "    .dataframe thead th {\n",
       "        text-align: right;\n",
       "    }\n",
       "</style>\n",
       "<table border=\"1\" class=\"dataframe\">\n",
       "  <thead>\n",
       "    <tr style=\"text-align: right;\">\n",
       "      <th></th>\n",
       "      <th>author</th>\n",
       "      <th>mean_rating</th>\n",
       "      <th>num_ratings</th>\n",
       "      <th>num_reviews</th>\n",
       "      <th>title</th>\n",
       "    </tr>\n",
       "  </thead>\n",
       "  <tbody>\n",
       "    <tr>\n",
       "      <th>0</th>\n",
       "      <td>Madeline Miller</td>\n",
       "      <td>4.31</td>\n",
       "      <td>125,091 ratings</td>\n",
       "      <td>17,173 reviews</td>\n",
       "      <td>Circe</td>\n",
       "    </tr>\n",
       "    <tr>\n",
       "      <th>1</th>\n",
       "      <td>Guillermo del Toro</td>\n",
       "      <td>3.93</td>\n",
       "      <td>10,630 ratings</td>\n",
       "      <td>1,627 reviews</td>\n",
       "      <td>The Shape of Water</td>\n",
       "    </tr>\n",
       "    <tr>\n",
       "      <th>2</th>\n",
       "      <td>Naomi Novik</td>\n",
       "      <td>4.28</td>\n",
       "      <td>36,595 ratings</td>\n",
       "      <td>6,602 reviews</td>\n",
       "      <td>Spinning Silver</td>\n",
       "    </tr>\n",
       "    <tr>\n",
       "      <th>3</th>\n",
       "      <td>Nora Roberts</td>\n",
       "      <td>4.05</td>\n",
       "      <td>42,218 ratings</td>\n",
       "      <td>4,678 reviews</td>\n",
       "      <td>Year One</td>\n",
       "    </tr>\n",
       "    <tr>\n",
       "      <th>4</th>\n",
       "      <td>Ilona Andrews</td>\n",
       "      <td>4.42</td>\n",
       "      <td>14,852 ratings</td>\n",
       "      <td>1,888 reviews</td>\n",
       "      <td>Iron and Magic</td>\n",
       "    </tr>\n",
       "    <tr>\n",
       "      <th>5</th>\n",
       "      <td>R.F. Kuang</td>\n",
       "      <td>4.01</td>\n",
       "      <td>17,047 ratings</td>\n",
       "      <td>3,664 reviews</td>\n",
       "      <td>The Poppy War</td>\n",
       "    </tr>\n",
       "    <tr>\n",
       "      <th>6</th>\n",
       "      <td>Seanan McGuire</td>\n",
       "      <td>4.00</td>\n",
       "      <td>14,271 ratings</td>\n",
       "      <td>2,902 reviews</td>\n",
       "      <td>Beneath the Sugar Sky</td>\n",
       "    </tr>\n",
       "    <tr>\n",
       "      <th>7</th>\n",
       "      <td>Karen Marie Moning</td>\n",
       "      <td>4.33</td>\n",
       "      <td>9,608 ratings</td>\n",
       "      <td>1,283 reviews</td>\n",
       "      <td>High Voltage</td>\n",
       "    </tr>\n",
       "    <tr>\n",
       "      <th>8</th>\n",
       "      <td>Patricia Briggs</td>\n",
       "      <td>4.28</td>\n",
       "      <td>15,347 ratings</td>\n",
       "      <td>1,736 reviews</td>\n",
       "      <td>Burn Bright</td>\n",
       "    </tr>\n",
       "    <tr>\n",
       "      <th>9</th>\n",
       "      <td>Mark Lawrence</td>\n",
       "      <td>4.45</td>\n",
       "      <td>12,836 ratings</td>\n",
       "      <td>1,267 reviews</td>\n",
       "      <td>Grey Sister</td>\n",
       "    </tr>\n",
       "    <tr>\n",
       "      <th>10</th>\n",
       "      <td>Peng Shepherd</td>\n",
       "      <td>3.71</td>\n",
       "      <td>7,599 ratings</td>\n",
       "      <td>1,552 reviews</td>\n",
       "      <td>The Book of M</td>\n",
       "    </tr>\n",
       "    <tr>\n",
       "      <th>11</th>\n",
       "      <td>Katherine Arden</td>\n",
       "      <td>4.41</td>\n",
       "      <td>29,831 ratings</td>\n",
       "      <td>4,403 reviews</td>\n",
       "      <td>The Girl in the Tower</td>\n",
       "    </tr>\n",
       "    <tr>\n",
       "      <th>12</th>\n",
       "      <td>Michael J. Sullivan</td>\n",
       "      <td>4.45</td>\n",
       "      <td>6,706 ratings</td>\n",
       "      <td>620 reviews</td>\n",
       "      <td>Age of War</td>\n",
       "    </tr>\n",
       "    <tr>\n",
       "      <th>13</th>\n",
       "      <td>Aleron Kong</td>\n",
       "      <td>4.58</td>\n",
       "      <td>6,406 ratings</td>\n",
       "      <td>676 reviews</td>\n",
       "      <td>The Land: Predators</td>\n",
       "    </tr>\n",
       "    <tr>\n",
       "      <th>14</th>\n",
       "      <td>Deborah Harkness</td>\n",
       "      <td>3.88</td>\n",
       "      <td>17,578 ratings</td>\n",
       "      <td>2,110 reviews</td>\n",
       "      <td>Time's Convert</td>\n",
       "    </tr>\n",
       "    <tr>\n",
       "      <th>15</th>\n",
       "      <td>Ilona Andrews</td>\n",
       "      <td>4.58</td>\n",
       "      <td>15,205 ratings</td>\n",
       "      <td>1,955 reviews</td>\n",
       "      <td>Magic Triumphs</td>\n",
       "    </tr>\n",
       "    <tr>\n",
       "      <th>16</th>\n",
       "      <td>Josiah Bancroft</td>\n",
       "      <td>4.21</td>\n",
       "      <td>9,487 ratings</td>\n",
       "      <td>1,559 reviews</td>\n",
       "      <td>Senlin Ascends</td>\n",
       "    </tr>\n",
       "    <tr>\n",
       "      <th>17</th>\n",
       "      <td>Brian McClellan</td>\n",
       "      <td>4.55</td>\n",
       "      <td>4,519 ratings</td>\n",
       "      <td>329 reviews</td>\n",
       "      <td>Wrath of Empire</td>\n",
       "    </tr>\n",
       "    <tr>\n",
       "      <th>18</th>\n",
       "      <td>Robert Jackson Bennett</td>\n",
       "      <td>4.29</td>\n",
       "      <td>8,580 ratings</td>\n",
       "      <td>1,569 reviews</td>\n",
       "      <td>Foundryside</td>\n",
       "    </tr>\n",
       "    <tr>\n",
       "      <th>19</th>\n",
       "      <td>Nicholas Eames</td>\n",
       "      <td>4.29</td>\n",
       "      <td>5,176 ratings</td>\n",
       "      <td>855 reviews</td>\n",
       "      <td>Bloody Rose</td>\n",
       "    </tr>\n",
       "  </tbody>\n",
       "</table>\n",
       "</div>"
      ],
      "text/plain": [
       "                    author mean_rating      num_ratings     num_reviews  \\\n",
       "0          Madeline Miller        4.31  125,091 ratings  17,173 reviews   \n",
       "1       Guillermo del Toro        3.93   10,630 ratings   1,627 reviews   \n",
       "2              Naomi Novik        4.28   36,595 ratings   6,602 reviews   \n",
       "3             Nora Roberts        4.05   42,218 ratings   4,678 reviews   \n",
       "4            Ilona Andrews        4.42   14,852 ratings   1,888 reviews   \n",
       "5               R.F. Kuang        4.01   17,047 ratings   3,664 reviews   \n",
       "6           Seanan McGuire        4.00   14,271 ratings   2,902 reviews   \n",
       "7       Karen Marie Moning        4.33    9,608 ratings   1,283 reviews   \n",
       "8          Patricia Briggs        4.28   15,347 ratings   1,736 reviews   \n",
       "9            Mark Lawrence        4.45   12,836 ratings   1,267 reviews   \n",
       "10           Peng Shepherd        3.71    7,599 ratings   1,552 reviews   \n",
       "11         Katherine Arden        4.41   29,831 ratings   4,403 reviews   \n",
       "12     Michael J. Sullivan        4.45    6,706 ratings     620 reviews   \n",
       "13             Aleron Kong        4.58    6,406 ratings     676 reviews   \n",
       "14        Deborah Harkness        3.88   17,578 ratings   2,110 reviews   \n",
       "15           Ilona Andrews        4.58   15,205 ratings   1,955 reviews   \n",
       "16         Josiah Bancroft        4.21    9,487 ratings   1,559 reviews   \n",
       "17         Brian McClellan        4.55    4,519 ratings     329 reviews   \n",
       "18  Robert Jackson Bennett        4.29    8,580 ratings   1,569 reviews   \n",
       "19          Nicholas Eames        4.29    5,176 ratings     855 reviews   \n",
       "\n",
       "                    title  \n",
       "0                   Circe  \n",
       "1      The Shape of Water  \n",
       "2         Spinning Silver  \n",
       "3                Year One  \n",
       "4          Iron and Magic  \n",
       "5           The Poppy War  \n",
       "6   Beneath the Sugar Sky  \n",
       "7            High Voltage  \n",
       "8             Burn Bright  \n",
       "9             Grey Sister  \n",
       "10          The Book of M  \n",
       "11  The Girl in the Tower  \n",
       "12             Age of War  \n",
       "13    The Land: Predators  \n",
       "14         Time's Convert  \n",
       "15         Magic Triumphs  \n",
       "16         Senlin Ascends  \n",
       "17        Wrath of Empire  \n",
       "18            Foundryside  \n",
       "19            Bloody Rose  "
      ]
     },
     "execution_count": 51,
     "metadata": {},
     "output_type": "execute_result"
    }
   ],
   "source": [
    "stuff = []\n",
    "for link in tq(links):\n",
    "    options = Options()\n",
    "    options.headless = True\n",
    "    browser = webdriver.Chrome(options=options)\n",
    "    browser.get(link)\n",
    "    book_dict = {}\n",
    "    book_dict['title'] = browser.find_element_by_xpath(\"//h1[@id='bookTitle']\").text\n",
    "    book_dict['author'] = browser.find_element_by_xpath(\"//a[@class='authorName']\").text\n",
    "    book_dict['mean_rating'] = browser.find_element_by_xpath(\"//span[@itemprop='ratingValue']\").text\n",
    "    book_dict['num_ratings'] = browser.find_element_by_xpath(\"//div[@id='bookMeta']//a[2]\").text\n",
    "    book_dict['num_reviews'] = browser.find_element_by_xpath(\"//div[@id='bookMeta']//a[3]\").text\n",
    "    stuff.append(book_dict)\n",
    "pd.DataFrame(stuff)\n",
    "    "
   ]
  },
  {
   "cell_type": "code",
   "execution_count": 59,
   "metadata": {},
   "outputs": [
    {
     "data": {
      "application/vnd.jupyter.widget-view+json": {
       "model_id": "4b543d47f6914a41aeef0b4470962819",
       "version_major": 2,
       "version_minor": 0
      },
      "text/plain": [
       "HBox(children=(IntProgress(value=0, max=26), HTML(value='')))"
      ]
     },
     "metadata": {},
     "output_type": "display_data"
    },
    {
     "data": {
      "text/plain": [
       "['https://www.goodreads.com/choiceawards/best-fiction-books-2018',\n",
       " 'https://www.goodreads.com/choiceawards/best-mystery-thriller-books-2018',\n",
       " 'https://www.goodreads.com/choiceawards/best-historical-fiction-books-2018',\n",
       " 'https://www.goodreads.com/choiceawards/best-fantasy-books-2018',\n",
       " 'https://www.goodreads.com/choiceawards/best-fantasy-books-2018',\n",
       " 'https://www.goodreads.com/choiceawards/best-of-the-best-2018',\n",
       " 'https://www.goodreads.com/choiceawards/best-romance-books-2018',\n",
       " 'https://www.goodreads.com/choiceawards/best-science-fiction-books-2018',\n",
       " 'https://www.goodreads.com/choiceawards/best-horror-books-2018',\n",
       " 'https://www.goodreads.com/choiceawards/best-horror-books-2018',\n",
       " 'https://www.goodreads.com/choiceawards/best-humor-books-2018',\n",
       " 'https://www.goodreads.com/choiceawards/best-nonfiction-books-2018',\n",
       " 'https://www.goodreads.com/choiceawards/best-memoir-autobiography-books-2018',\n",
       " 'https://www.goodreads.com/choiceawards/best-history-biography-books-2018',\n",
       " 'https://www.goodreads.com/choiceawards/best-history-biography-books-2018',\n",
       " 'https://www.goodreads.com/choiceawards/best-science-technology-books-2018',\n",
       " 'https://www.goodreads.com/choiceawards/best-food-cookbooks-2018',\n",
       " 'https://www.goodreads.com/choiceawards/best-graphic-novels-comics-2018',\n",
       " 'https://www.goodreads.com/choiceawards/best-poetry-books-2018',\n",
       " 'https://www.goodreads.com/choiceawards/best-poetry-books-2018',\n",
       " 'https://www.goodreads.com/choiceawards/best-debut-author-2018',\n",
       " 'https://www.goodreads.com/choiceawards/best-young-adult-fiction-books-2018',\n",
       " 'https://www.goodreads.com/choiceawards/best-young-adult-fantasy-books-2018',\n",
       " 'https://www.goodreads.com/choiceawards/best-childrens-books-2018',\n",
       " 'https://www.goodreads.com/choiceawards/best-childrens-books-2018',\n",
       " 'https://www.goodreads.com/choiceawards/best-picture-books-2018']"
      ]
     },
     "execution_count": 59,
     "metadata": {},
     "output_type": "execute_result"
    }
   ],
   "source": [
    "url = 'https://www.goodreads.com/choiceawards/best-books-2018'\n",
    "browser = webdriver.Chrome(options=options)\n",
    "browser.get(url)\n",
    "cat_links = []\n",
    "for i in tq(range(1,27)):\n",
    "    try:\n",
    "        item = browser.find_element_by_xpath(\"//body[@id='gcaLanding']/div[@class='content']/div[contains(@class,'mainContentContainer')]/div[contains(@class,'mainContent')]/div[contains(@class,'mainContentFloat')]/div[@id='landingCenter']/div[@id='landingLeft']/div[@id='categories']/div[@class='categoryContainer']/div[\"+str(i)+\"]/a[1]\")\n",
    "    except:\n",
    "        pass\n",
    "    link = item.get_attribute('href')\n",
    "    cat_links.append(link)\n",
    "cat_links"
   ]
  },
  {
   "cell_type": "code",
   "execution_count": 61,
   "metadata": {},
   "outputs": [
    {
     "data": {
      "application/vnd.jupyter.widget-view+json": {
       "model_id": "a6127b21ca9540f38cc9cbd4a9867c56",
       "version_major": 2,
       "version_minor": 0
      },
      "text/plain": [
       "HBox(children=(IntProgress(value=0, max=26), HTML(value='')))"
      ]
     },
     "metadata": {},
     "output_type": "display_data"
    },
    {
     "data": {
      "application/vnd.jupyter.widget-view+json": {
       "model_id": "d6299620fb39459783606b87ae2cafef",
       "version_major": 2,
       "version_minor": 0
      },
      "text/plain": [
       "HBox(children=(IntProgress(value=0, max=20), HTML(value='')))"
      ]
     },
     "metadata": {},
     "output_type": "display_data"
    },
    {
     "data": {
      "application/vnd.jupyter.widget-view+json": {
       "model_id": "9f991e8571e64881a71b3d738a9f121f",
       "version_major": 2,
       "version_minor": 0
      },
      "text/plain": [
       "HBox(children=(IntProgress(value=0, max=20), HTML(value='')))"
      ]
     },
     "metadata": {},
     "output_type": "display_data"
    },
    {
     "data": {
      "application/vnd.jupyter.widget-view+json": {
       "model_id": "d12274ebc4bb40b88afd227ea80251fd",
       "version_major": 2,
       "version_minor": 0
      },
      "text/plain": [
       "HBox(children=(IntProgress(value=0, max=20), HTML(value='')))"
      ]
     },
     "metadata": {},
     "output_type": "display_data"
    },
    {
     "data": {
      "application/vnd.jupyter.widget-view+json": {
       "model_id": "6ccf672573b0487c897fa659323f2538",
       "version_major": 2,
       "version_minor": 0
      },
      "text/plain": [
       "HBox(children=(IntProgress(value=0, max=20), HTML(value='')))"
      ]
     },
     "metadata": {},
     "output_type": "display_data"
    },
    {
     "data": {
      "application/vnd.jupyter.widget-view+json": {
       "model_id": "3532148c982c494695d04c5b082f9394",
       "version_major": 2,
       "version_minor": 0
      },
      "text/plain": [
       "HBox(children=(IntProgress(value=0, max=20), HTML(value='')))"
      ]
     },
     "metadata": {},
     "output_type": "display_data"
    },
    {
     "data": {
      "application/vnd.jupyter.widget-view+json": {
       "model_id": "bbb3ad2cff574f30a400fb8430d7ec14",
       "version_major": 2,
       "version_minor": 0
      },
      "text/plain": [
       "HBox(children=(IntProgress(value=0, max=20), HTML(value='')))"
      ]
     },
     "metadata": {},
     "output_type": "display_data"
    },
    {
     "data": {
      "application/vnd.jupyter.widget-view+json": {
       "model_id": "11ac1b77740840ba9972263b71a79539",
       "version_major": 2,
       "version_minor": 0
      },
      "text/plain": [
       "HBox(children=(IntProgress(value=0, max=20), HTML(value='')))"
      ]
     },
     "metadata": {},
     "output_type": "display_data"
    },
    {
     "data": {
      "application/vnd.jupyter.widget-view+json": {
       "model_id": "7bad326177c94ddb8103d9ff815382bd",
       "version_major": 2,
       "version_minor": 0
      },
      "text/plain": [
       "HBox(children=(IntProgress(value=0, max=20), HTML(value='')))"
      ]
     },
     "metadata": {},
     "output_type": "display_data"
    },
    {
     "data": {
      "application/vnd.jupyter.widget-view+json": {
       "model_id": "bd3f4f43e753453aa2c4619379a95720",
       "version_major": 2,
       "version_minor": 0
      },
      "text/plain": [
       "HBox(children=(IntProgress(value=0, max=20), HTML(value='')))"
      ]
     },
     "metadata": {},
     "output_type": "display_data"
    },
    {
     "data": {
      "application/vnd.jupyter.widget-view+json": {
       "model_id": "43605aab47e041eabd349f6e2e2399b4",
       "version_major": 2,
       "version_minor": 0
      },
      "text/plain": [
       "HBox(children=(IntProgress(value=0, max=20), HTML(value='')))"
      ]
     },
     "metadata": {},
     "output_type": "display_data"
    },
    {
     "data": {
      "application/vnd.jupyter.widget-view+json": {
       "model_id": "c83049ca2d754eaeb1dffbf40582eb8b",
       "version_major": 2,
       "version_minor": 0
      },
      "text/plain": [
       "HBox(children=(IntProgress(value=0, max=20), HTML(value='')))"
      ]
     },
     "metadata": {},
     "output_type": "display_data"
    },
    {
     "data": {
      "application/vnd.jupyter.widget-view+json": {
       "model_id": "c4ae54ed32d043e09536f194f74134c6",
       "version_major": 2,
       "version_minor": 0
      },
      "text/plain": [
       "HBox(children=(IntProgress(value=0, max=20), HTML(value='')))"
      ]
     },
     "metadata": {},
     "output_type": "display_data"
    },
    {
     "data": {
      "application/vnd.jupyter.widget-view+json": {
       "model_id": "ab55368218624134bbfcd9fef5caac80",
       "version_major": 2,
       "version_minor": 0
      },
      "text/plain": [
       "HBox(children=(IntProgress(value=0, max=20), HTML(value='')))"
      ]
     },
     "metadata": {},
     "output_type": "display_data"
    },
    {
     "data": {
      "application/vnd.jupyter.widget-view+json": {
       "model_id": "1bd1d72a294c4b0cb4d1fa8991b8f9a4",
       "version_major": 2,
       "version_minor": 0
      },
      "text/plain": [
       "HBox(children=(IntProgress(value=0, max=20), HTML(value='')))"
      ]
     },
     "metadata": {},
     "output_type": "display_data"
    },
    {
     "data": {
      "application/vnd.jupyter.widget-view+json": {
       "model_id": "19771527ae8e4854b0422e9b6638541e",
       "version_major": 2,
       "version_minor": 0
      },
      "text/plain": [
       "HBox(children=(IntProgress(value=0, max=20), HTML(value='')))"
      ]
     },
     "metadata": {},
     "output_type": "display_data"
    },
    {
     "data": {
      "application/vnd.jupyter.widget-view+json": {
       "model_id": "428ebd8b08eb451b8f5d7f967e97c270",
       "version_major": 2,
       "version_minor": 0
      },
      "text/plain": [
       "HBox(children=(IntProgress(value=0, max=20), HTML(value='')))"
      ]
     },
     "metadata": {},
     "output_type": "display_data"
    },
    {
     "data": {
      "application/vnd.jupyter.widget-view+json": {
       "model_id": "3934eccaf7ac4bebafd7234d7d593e00",
       "version_major": 2,
       "version_minor": 0
      },
      "text/plain": [
       "HBox(children=(IntProgress(value=0, max=20), HTML(value='')))"
      ]
     },
     "metadata": {},
     "output_type": "display_data"
    },
    {
     "data": {
      "application/vnd.jupyter.widget-view+json": {
       "model_id": "5443dd70a4a04b6e85c521a8ac99fc5c",
       "version_major": 2,
       "version_minor": 0
      },
      "text/plain": [
       "HBox(children=(IntProgress(value=0, max=20), HTML(value='')))"
      ]
     },
     "metadata": {},
     "output_type": "display_data"
    },
    {
     "data": {
      "application/vnd.jupyter.widget-view+json": {
       "model_id": "14fb94af325f4d02a6fa1c4520c71fbc",
       "version_major": 2,
       "version_minor": 0
      },
      "text/plain": [
       "HBox(children=(IntProgress(value=0, max=20), HTML(value='')))"
      ]
     },
     "metadata": {},
     "output_type": "display_data"
    },
    {
     "data": {
      "application/vnd.jupyter.widget-view+json": {
       "model_id": "b568087b12f74d6e887b5a2501c99808",
       "version_major": 2,
       "version_minor": 0
      },
      "text/plain": [
       "HBox(children=(IntProgress(value=0, max=20), HTML(value='')))"
      ]
     },
     "metadata": {},
     "output_type": "display_data"
    },
    {
     "data": {
      "application/vnd.jupyter.widget-view+json": {
       "model_id": "45e88ba000474eb9bc410ff6d8999c2f",
       "version_major": 2,
       "version_minor": 0
      },
      "text/plain": [
       "HBox(children=(IntProgress(value=0, max=20), HTML(value='')))"
      ]
     },
     "metadata": {},
     "output_type": "display_data"
    },
    {
     "data": {
      "application/vnd.jupyter.widget-view+json": {
       "model_id": "cce07108158e499ab13bf2c61f6acfb6",
       "version_major": 2,
       "version_minor": 0
      },
      "text/plain": [
       "HBox(children=(IntProgress(value=0, max=20), HTML(value='')))"
      ]
     },
     "metadata": {},
     "output_type": "display_data"
    },
    {
     "data": {
      "application/vnd.jupyter.widget-view+json": {
       "model_id": "2643a82e0b364acdba02b6ef57c30534",
       "version_major": 2,
       "version_minor": 0
      },
      "text/plain": [
       "HBox(children=(IntProgress(value=0, max=20), HTML(value='')))"
      ]
     },
     "metadata": {},
     "output_type": "display_data"
    },
    {
     "data": {
      "application/vnd.jupyter.widget-view+json": {
       "model_id": "820f307e917f4ef394b842f5da604ffa",
       "version_major": 2,
       "version_minor": 0
      },
      "text/plain": [
       "HBox(children=(IntProgress(value=0, max=20), HTML(value='')))"
      ]
     },
     "metadata": {},
     "output_type": "display_data"
    },
    {
     "data": {
      "application/vnd.jupyter.widget-view+json": {
       "model_id": "e2d5890c58144813811eb07aa10da6ac",
       "version_major": 2,
       "version_minor": 0
      },
      "text/plain": [
       "HBox(children=(IntProgress(value=0, max=20), HTML(value='')))"
      ]
     },
     "metadata": {},
     "output_type": "display_data"
    },
    {
     "data": {
      "application/vnd.jupyter.widget-view+json": {
       "model_id": "c3ed8d7d4c2443b9b3546bfdac6e68df",
       "version_major": 2,
       "version_minor": 0
      },
      "text/plain": [
       "HBox(children=(IntProgress(value=0, max=20), HTML(value='')))"
      ]
     },
     "metadata": {},
     "output_type": "display_data"
    }
   ],
   "source": [
    "book_links = []\n",
    "for link in tq(cat_links):\n",
    "    browser = webdriver.Chrome(options=options)\n",
    "    browser.get(link)\n",
    "    stuff = browser.find_elements_by_class_name('pollAnswer__bookLink')\n",
    "    for x in tq(stuff):\n",
    "        yada = x.get_attribute('href')\n",
    "        book_links.append(yada)"
   ]
  },
  {
   "cell_type": "code",
   "execution_count": 72,
   "metadata": {},
   "outputs": [],
   "source": [
    "def book_scrape(book_links):\n",
    "    stuff = []\n",
    "    options = Options()\n",
    "    options.headless = True\n",
    "    browser = webdriver.Chrome(options=options)\n",
    "    for link in tq(book_links):\n",
    "        browser.get(link)\n",
    "        book_dict = {}\n",
    "        book_dict['title'] = browser.find_element_by_xpath(\"//h1[@id='bookTitle']\").text\n",
    "        book_dict['author'] = browser.find_element_by_xpath(\"//a[@class='authorName']\").text\n",
    "        book_dict['mean_rating'] = browser.find_element_by_xpath(\"//span[@itemprop='ratingValue']\").text\n",
    "        book_dict['num_ratings'] = browser.find_element_by_xpath(\"//div[@id='bookMeta']//a[2]\").text\n",
    "        book_dict['num_reviews'] = browser.find_element_by_xpath(\"//div[@id='bookMeta']//a[3]\").text\n",
    "        book_dict['url'] = link \n",
    "        stuff.append(book_dict)\n",
    "    browser.quit()\n",
    "    return pd.DataFrame(stuff)"
   ]
  },
  {
   "cell_type": "code",
   "execution_count": 73,
   "metadata": {},
   "outputs": [
    {
     "data": {
      "application/vnd.jupyter.widget-view+json": {
       "model_id": "891fb6f602e448569978a225185d4e10",
       "version_major": 2,
       "version_minor": 0
      },
      "text/plain": [
       "HBox(children=(IntProgress(value=0, max=520), HTML(value='')))"
      ]
     },
     "metadata": {},
     "output_type": "display_data"
    }
   ],
   "source": [
    "df = book_scrape(book_links)"
   ]
  },
  {
   "cell_type": "code",
   "execution_count": 77,
   "metadata": {},
   "outputs": [],
   "source": [
    "df.to_csv('book_info.csv')"
   ]
  }
 ],
 "metadata": {
  "kernelspec": {
   "display_name": "Python 3",
   "language": "python",
   "name": "python3"
  },
  "language_info": {
   "codemirror_mode": {
    "name": "ipython",
    "version": 3
   },
   "file_extension": ".py",
   "mimetype": "text/x-python",
   "name": "python",
   "nbconvert_exporter": "python",
   "pygments_lexer": "ipython3",
   "version": "3.7.3"
  }
 },
 "nbformat": 4,
 "nbformat_minor": 2
}
