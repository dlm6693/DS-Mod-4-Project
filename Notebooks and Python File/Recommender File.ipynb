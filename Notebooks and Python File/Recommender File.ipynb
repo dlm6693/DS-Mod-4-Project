{
 "cells": [
  {
   "cell_type": "code",
   "execution_count": 17,
   "metadata": {},
   "outputs": [],
   "source": [
    "import pandas as pd\n",
    "import numpy as np\n",
    "from surprise import SVD\n",
    "from surprise import dump\n",
    "from surprise import Reader, Dataset\n",
    "from surprise.model_selection import cross_validate, train_test_split"
   ]
  },
  {
   "cell_type": "code",
   "execution_count": 18,
   "metadata": {},
   "outputs": [],
   "source": [
    "def create_user():\n",
    "    user_name = input('Please enter your name: ')\n",
    "    print(\"\\n Welcome {}! I'm going to recommend some books just for you.\\n\".format(user_name))\n",
    "    user_id = max(df.user_id) + 1\n",
    "    return user_name, user_id"
   ]
  },
  {
   "cell_type": "code",
   "execution_count": 19,
   "metadata": {},
   "outputs": [],
   "source": [
    "def valid_entries(user_entry, valid_entries):\n",
    "    if user_entry not in valid_entries:\n",
    "        return False\n",
    "    else:\n",
    "        return True"
   ]
  },
  {
   "cell_type": "code",
   "execution_count": 20,
   "metadata": {},
   "outputs": [],
   "source": [
    "def check_favorite_authors(df):\n",
    "    valid_yes_no = ['Y', 'N', 'YES', 'NO']\n",
    "    is_valid = False\n",
    "    while is_valid == False:\n",
    "        favorite_author_ask = (input(\"Do you have any favorite authors who may have recently written books? (Yes/No) \")).upper()\n",
    "        if valid_entries(favorite_author_ask, valid_yes_no) == False:\n",
    "            print(\"Sorry, that isn't a valid entry, please try again. \\n\")\n",
    "        else:\n",
    "            is_valid = True\n",
    "            if favorite_author_ask in ['Y', 'YES']:\n",
    "                favorite_author_ask = True\n",
    "            else:\n",
    "                favorite_author_ask = False\n",
    "    if favorite_author_ask == True:\n",
    "        keep_checking = True\n",
    "        while keep_checking == True:\n",
    "            favorite_author = (input(\"Name an author, I will check to see if they wrote anything on the top list.\"))\n",
    "            if favorite_author.title() in book_reviews.author.unique():\n",
    "                print(\"{} has written the following books: \\n\".format(favorite_author))\n",
    "                for i in list(df.title.loc[df.author == favorite_author].unique()):\n",
    "                    print(i + \"\\n\")\n",
    "            else:\n",
    "                print(\"Sorry, {} has not written any books that were recently trending on our lists.\")\n",
    "            is_valid = False\n",
    "            while is_valid == False:\n",
    "                check_again = input(\"Would you like to check another author? (Yes/No)\").upper()\n",
    "                if valid_entries(check_again, valid_yes_no) == False:\n",
    "                    print(\"Sorry, that isn't a valid entry, please try again. \\n\")\n",
    "                else:\n",
    "                    is_valid = True\n",
    "            if check_again in ['Y', 'Yes']:\n",
    "                keep_checking = True\n",
    "            else:\n",
    "                keep_checking = False"
   ]
  },
  {
   "cell_type": "code",
   "execution_count": 21,
   "metadata": {},
   "outputs": [],
   "source": [
    "def num_reviews():\n",
    "    x = False\n",
    "    while x == False:\n",
    "        num_reviews = input('How many books would you like to review? \\n')\n",
    "        try:\n",
    "            if 0< int(num_reviews) <=10:\n",
    "                x = True\n",
    "                return int(num_reviews)\n",
    "                break\n",
    "        except:\n",
    "            print('Invalid entry. Please try again.')"
   ]
  },
  {
   "cell_type": "code",
   "execution_count": 22,
   "metadata": {},
   "outputs": [],
   "source": [
    "def new_user_ratings(df, num_reviews, user_name, user_id):\n",
    "    user_id = new_user_id\n",
    "    user_name = new_user_name\n",
    "    ratings_list = []\n",
    "    while num_reviews >0: \n",
    "        book = book_info_df.sample(1)\n",
    "        rating = input('How do you rate this book on a scale of 1 to 5? If you are unfamiliar with this title press n. \\n')\n",
    "        print(book.title.item() + ' by ' + book.author.item())\n",
    "        if rating == 'n':\n",
    "            continue\n",
    "        else:\n",
    "            rating_dict = {'user_id':user_id, 'isbn':book.isbn.item(), 'rating':rating}\n",
    "            ratings_list.append(rating_dict)\n",
    "            num_reviews -= 1\n",
    "    return ratings_list"
   ]
  },
  {
   "cell_type": "code",
   "execution_count": 23,
   "metadata": {},
   "outputs": [],
   "source": [
    "def new_recommendations(df, new_ratings):\n",
    "    df = df[['user_id', 'isbn', 'rating']]\n",
    "    new_ratings = pd.DataFrame(new_ratings)[['user_id', 'isbn', 'rating']]\n",
    "    new_df = pd.concat([df, new_ratings]).reset_index(drop=True)\n",
    "    reader = Reader(rating_scale=(1,5))\n",
    "    data = Dataset.load_from_df(new_df,reader)\n",
    "    train, test = train_test_split(data, test_size=.2)\n",
    "    model = SVD(n_epochs=17, lr_all=.015, reg_all=.125, n_factors=17)\n",
    "    model.fit(train)\n",
    "    preds = model.test(test)\n",
    "    user_id = new_ratings.user_id[0]\n",
    "    book_list = []\n",
    "    for x in new_df.isbn.unique():\n",
    "        book_list.append((x, model.predict(user_id,x)[3]))\n",
    "    ranked_books = sorted(book_list, key=lambda x: x[1], reverse=True)\n",
    "    return ranked_books"
   ]
  },
  {
   "cell_type": "code",
   "execution_count": 24,
   "metadata": {},
   "outputs": [],
   "source": [
    "def num_recs():\n",
    "    x = False\n",
    "    while x == False:\n",
    "        num_recs = input('How many books would you like to be recommended? \\n')\n",
    "        try:\n",
    "            if 0< int(num_recs) <=10:\n",
    "                x = True\n",
    "                return int(num_recs)\n",
    "                break\n",
    "        except:\n",
    "            print('Invalid entry. Please try again.')\n",
    "    return num_recs"
   ]
  },
  {
   "cell_type": "code",
   "execution_count": 25,
   "metadata": {},
   "outputs": [],
   "source": [
    "def recs_to_return(recs, df, num_recs):\n",
    "    df_reduced = df[['title', 'author', 'isbn']].drop_duplicates()\n",
    "    for i, v in enumerate(recs):\n",
    "        book = df_reduced.loc[df_reduced.isbn == v[0]]\n",
    "        print('Recommendation # ' + str(i+1) + ': ' + book.title.item() + ' by ' + book.author.item() + \n",
    "              ' \\n https://isbnsearch.org/isbn/{}'.format(book.isbn.item())) \n",
    "        num_recs-=1\n",
    "        if num_recs == 0:\n",
    "            break"
   ]
  }
 ],
 "metadata": {
  "kernelspec": {
   "display_name": "Python 3",
   "language": "python",
   "name": "python3"
  },
  "language_info": {
   "codemirror_mode": {
    "name": "ipython",
    "version": 3
   },
   "file_extension": ".py",
   "mimetype": "text/x-python",
   "name": "python",
   "nbconvert_exporter": "python",
   "pygments_lexer": "ipython3",
   "version": "3.7.3"
  }
 },
 "nbformat": 4,
 "nbformat_minor": 2
}
